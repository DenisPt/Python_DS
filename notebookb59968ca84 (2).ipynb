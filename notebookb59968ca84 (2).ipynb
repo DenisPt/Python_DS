{
 "cells": [
  {
   "cell_type": "code",
   "execution_count": 1,
   "metadata": {
    "_cell_guid": "b1076dfc-b9ad-4769-8c92-a6c4dae69d19",
    "_uuid": "8f2839f25d086af736a60e9eeb907d3b93b6e0e5",
    "execution": {
     "iopub.execute_input": "2020-12-08T12:40:16.039320Z",
     "iopub.status.busy": "2020-12-08T12:40:16.038269Z",
     "iopub.status.idle": "2020-12-08T12:40:16.043205Z",
     "shell.execute_reply": "2020-12-08T12:40:16.042649Z"
    },
    "papermill": {
     "duration": 0.034097,
     "end_time": "2020-12-08T12:40:16.043319",
     "exception": false,
     "start_time": "2020-12-08T12:40:16.009222",
     "status": "completed"
    },
    "tags": []
   },
   "outputs": [
    {
     "name": "stdout",
     "output_type": "stream",
     "text": [
      "/kaggle/input/realestatepriceprediction/sample_submission.csv\n",
      "/kaggle/input/realestatepriceprediction/train.csv\n",
      "/kaggle/input/realestatepriceprediction/test.csv\n"
     ]
    }
   ],
   "source": [
    "# This Python 3 environment comes with many helpful analytics libraries installed\n",
    "# It is defined by the kaggle/python Docker image: https://github.com/kaggle/docker-python\n",
    "# For example, here's several helpful packages to load\n",
    "\n",
    "import numpy as np # linear algebra\n",
    "import pandas as pd # data processing, CSV file I/O (e.g. pd.read_csv)\n",
    "\n",
    "# Input data files are available in the read-only \"../input/\" directory\n",
    "# For example, running this (by clicking run or pressing Shift+Enter) will list all files under the input directory\n",
    "\n",
    "import os\n",
    "for dirname, _, filenames in os.walk('/kaggle/input'):\n",
    "    for filename in filenames:\n",
    "        print(os.path.join(dirname, filename))\n",
    "\n",
    "# You can write up to 20GB to the current directory (/kaggle/working/) that gets preserved as output when you create a version using \"Save & Run All\" \n",
    "# You can also write temporary files to /kaggle/temp/, but they won't be saved outside of the current session"
   ]
  },
  {
   "cell_type": "code",
   "execution_count": 2,
   "metadata": {
    "_cell_guid": "79c7e3d0-c299-4dcb-8224-4455121ee9b0",
    "_uuid": "d629ff2d2480ee46fbb7e2d37f6b5fab8052498a",
    "execution": {
     "iopub.execute_input": "2020-12-08T12:40:16.100710Z",
     "iopub.status.busy": "2020-12-08T12:40:16.099676Z",
     "iopub.status.idle": "2020-12-08T12:40:17.651990Z",
     "shell.execute_reply": "2020-12-08T12:40:17.651409Z"
    },
    "papermill": {
     "duration": 1.586671,
     "end_time": "2020-12-08T12:40:17.652116",
     "exception": false,
     "start_time": "2020-12-08T12:40:16.065445",
     "status": "completed"
    },
    "tags": []
   },
   "outputs": [],
   "source": [
    "import numpy as np\n",
    "import pandas as pd\n",
    "import random\n",
    "\n",
    "from sklearn.model_selection import train_test_split, cross_val_score\n",
    "from sklearn.preprocessing import StandardScaler, RobustScaler\n",
    "from sklearn.ensemble import RandomForestRegressor\n",
    "from sklearn.metrics import r2_score as r2\n",
    "from sklearn.model_selection import KFold, GridSearchCV\n",
    "\n",
    "from datetime import datetime\n",
    "\n",
    "import matplotlib\n",
    "import matplotlib.pyplot as plt\n",
    "import seaborn as sns\n",
    "%matplotlib inline\n",
    "%config InlineBackend.figure_format = 'svg'\n",
    "plt.style.use('fivethirtyeight')\n",
    "import warnings\n",
    "warnings.filterwarnings('ignore')\n",
    "pd.options.display.max_columns = 100\n",
    "## Подгружаем нужные библиотеки, устанавливаем стили для графиков"
   ]
  },
  {
   "cell_type": "code",
   "execution_count": 3,
   "metadata": {
    "execution": {
     "iopub.execute_input": "2020-12-08T12:40:17.700267Z",
     "iopub.status.busy": "2020-12-08T12:40:17.699675Z",
     "iopub.status.idle": "2020-12-08T12:40:17.702660Z",
     "shell.execute_reply": "2020-12-08T12:40:17.702021Z"
    },
    "papermill": {
     "duration": 0.028588,
     "end_time": "2020-12-08T12:40:17.702775",
     "exception": false,
     "start_time": "2020-12-08T12:40:17.674187",
     "status": "completed"
    },
    "tags": []
   },
   "outputs": [],
   "source": [
    "train_path = '/kaggle/input/realestatepriceprediction/train.csv'\n",
    "test_path = '/kaggle/input/realestatepriceprediction/test.csv'"
   ]
  },
  {
   "cell_type": "code",
   "execution_count": 4,
   "metadata": {
    "execution": {
     "iopub.execute_input": "2020-12-08T12:40:17.753634Z",
     "iopub.status.busy": "2020-12-08T12:40:17.752936Z",
     "iopub.status.idle": "2020-12-08T12:40:17.836265Z",
     "shell.execute_reply": "2020-12-08T12:40:17.836763Z"
    },
    "papermill": {
     "duration": 0.111885,
     "end_time": "2020-12-08T12:40:17.836925",
     "exception": false,
     "start_time": "2020-12-08T12:40:17.725040",
     "status": "completed"
    },
    "tags": []
   },
   "outputs": [
    {
     "data": {
      "text/html": [
       "<div>\n",
       "<style scoped>\n",
       "    .dataframe tbody tr th:only-of-type {\n",
       "        vertical-align: middle;\n",
       "    }\n",
       "\n",
       "    .dataframe tbody tr th {\n",
       "        vertical-align: top;\n",
       "    }\n",
       "\n",
       "    .dataframe thead th {\n",
       "        text-align: right;\n",
       "    }\n",
       "</style>\n",
       "<table border=\"1\" class=\"dataframe\">\n",
       "  <thead>\n",
       "    <tr style=\"text-align: right;\">\n",
       "      <th></th>\n",
       "      <th>Id</th>\n",
       "      <th>DistrictId</th>\n",
       "      <th>Rooms</th>\n",
       "      <th>Square</th>\n",
       "      <th>LifeSquare</th>\n",
       "      <th>KitchenSquare</th>\n",
       "      <th>Floor</th>\n",
       "      <th>HouseFloor</th>\n",
       "      <th>HouseYear</th>\n",
       "      <th>Ecology_1</th>\n",
       "      <th>Ecology_2</th>\n",
       "      <th>Ecology_3</th>\n",
       "      <th>Social_1</th>\n",
       "      <th>Social_2</th>\n",
       "      <th>Social_3</th>\n",
       "      <th>Healthcare_1</th>\n",
       "      <th>Helthcare_2</th>\n",
       "      <th>Shops_1</th>\n",
       "      <th>Shops_2</th>\n",
       "      <th>Price</th>\n",
       "    </tr>\n",
       "  </thead>\n",
       "  <tbody>\n",
       "    <tr>\n",
       "      <th>0</th>\n",
       "      <td>14038</td>\n",
       "      <td>35</td>\n",
       "      <td>2.0</td>\n",
       "      <td>47.981561</td>\n",
       "      <td>29.442751</td>\n",
       "      <td>6.0</td>\n",
       "      <td>7</td>\n",
       "      <td>9.0</td>\n",
       "      <td>1969</td>\n",
       "      <td>0.089040</td>\n",
       "      <td>B</td>\n",
       "      <td>B</td>\n",
       "      <td>33</td>\n",
       "      <td>7976</td>\n",
       "      <td>5</td>\n",
       "      <td>NaN</td>\n",
       "      <td>0</td>\n",
       "      <td>11</td>\n",
       "      <td>B</td>\n",
       "      <td>184966.930730</td>\n",
       "    </tr>\n",
       "    <tr>\n",
       "      <th>1</th>\n",
       "      <td>15053</td>\n",
       "      <td>41</td>\n",
       "      <td>3.0</td>\n",
       "      <td>65.683640</td>\n",
       "      <td>40.049543</td>\n",
       "      <td>8.0</td>\n",
       "      <td>7</td>\n",
       "      <td>9.0</td>\n",
       "      <td>1978</td>\n",
       "      <td>0.000070</td>\n",
       "      <td>B</td>\n",
       "      <td>B</td>\n",
       "      <td>46</td>\n",
       "      <td>10309</td>\n",
       "      <td>1</td>\n",
       "      <td>240.0</td>\n",
       "      <td>1</td>\n",
       "      <td>16</td>\n",
       "      <td>B</td>\n",
       "      <td>300009.450063</td>\n",
       "    </tr>\n",
       "    <tr>\n",
       "      <th>2</th>\n",
       "      <td>4765</td>\n",
       "      <td>53</td>\n",
       "      <td>2.0</td>\n",
       "      <td>44.947953</td>\n",
       "      <td>29.197612</td>\n",
       "      <td>0.0</td>\n",
       "      <td>8</td>\n",
       "      <td>12.0</td>\n",
       "      <td>1968</td>\n",
       "      <td>0.049637</td>\n",
       "      <td>B</td>\n",
       "      <td>B</td>\n",
       "      <td>34</td>\n",
       "      <td>7759</td>\n",
       "      <td>0</td>\n",
       "      <td>229.0</td>\n",
       "      <td>1</td>\n",
       "      <td>3</td>\n",
       "      <td>B</td>\n",
       "      <td>220925.908524</td>\n",
       "    </tr>\n",
       "    <tr>\n",
       "      <th>3</th>\n",
       "      <td>5809</td>\n",
       "      <td>58</td>\n",
       "      <td>2.0</td>\n",
       "      <td>53.352981</td>\n",
       "      <td>52.731512</td>\n",
       "      <td>9.0</td>\n",
       "      <td>8</td>\n",
       "      <td>17.0</td>\n",
       "      <td>1977</td>\n",
       "      <td>0.437885</td>\n",
       "      <td>B</td>\n",
       "      <td>B</td>\n",
       "      <td>23</td>\n",
       "      <td>5735</td>\n",
       "      <td>3</td>\n",
       "      <td>1084.0</td>\n",
       "      <td>0</td>\n",
       "      <td>5</td>\n",
       "      <td>B</td>\n",
       "      <td>175616.227217</td>\n",
       "    </tr>\n",
       "    <tr>\n",
       "      <th>4</th>\n",
       "      <td>10783</td>\n",
       "      <td>99</td>\n",
       "      <td>1.0</td>\n",
       "      <td>39.649192</td>\n",
       "      <td>23.776169</td>\n",
       "      <td>7.0</td>\n",
       "      <td>11</td>\n",
       "      <td>12.0</td>\n",
       "      <td>1976</td>\n",
       "      <td>0.012339</td>\n",
       "      <td>B</td>\n",
       "      <td>B</td>\n",
       "      <td>35</td>\n",
       "      <td>5776</td>\n",
       "      <td>1</td>\n",
       "      <td>2078.0</td>\n",
       "      <td>2</td>\n",
       "      <td>4</td>\n",
       "      <td>B</td>\n",
       "      <td>150226.531644</td>\n",
       "    </tr>\n",
       "  </tbody>\n",
       "</table>\n",
       "</div>"
      ],
      "text/plain": [
       "      Id  DistrictId  Rooms     Square  LifeSquare  KitchenSquare  Floor  \\\n",
       "0  14038          35    2.0  47.981561   29.442751            6.0      7   \n",
       "1  15053          41    3.0  65.683640   40.049543            8.0      7   \n",
       "2   4765          53    2.0  44.947953   29.197612            0.0      8   \n",
       "3   5809          58    2.0  53.352981   52.731512            9.0      8   \n",
       "4  10783          99    1.0  39.649192   23.776169            7.0     11   \n",
       "\n",
       "   HouseFloor  HouseYear  Ecology_1 Ecology_2 Ecology_3  Social_1  Social_2  \\\n",
       "0         9.0       1969   0.089040         B         B        33      7976   \n",
       "1         9.0       1978   0.000070         B         B        46     10309   \n",
       "2        12.0       1968   0.049637         B         B        34      7759   \n",
       "3        17.0       1977   0.437885         B         B        23      5735   \n",
       "4        12.0       1976   0.012339         B         B        35      5776   \n",
       "\n",
       "   Social_3  Healthcare_1  Helthcare_2  Shops_1 Shops_2          Price  \n",
       "0         5           NaN            0       11       B  184966.930730  \n",
       "1         1         240.0            1       16       B  300009.450063  \n",
       "2         0         229.0            1        3       B  220925.908524  \n",
       "3         3        1084.0            0        5       B  175616.227217  \n",
       "4         1        2078.0            2        4       B  150226.531644  "
      ]
     },
     "execution_count": 4,
     "metadata": {},
     "output_type": "execute_result"
    }
   ],
   "source": [
    "df_train = pd.read_csv(train_path)\n",
    "df_train.head()\n",
    "## загружаем тренировочные данные, проверяем, что все загрузилось"
   ]
  },
  {
   "cell_type": "code",
   "execution_count": 5,
   "metadata": {
    "execution": {
     "iopub.execute_input": "2020-12-08T12:40:17.887771Z",
     "iopub.status.busy": "2020-12-08T12:40:17.887089Z",
     "iopub.status.idle": "2020-12-08T12:40:17.927364Z",
     "shell.execute_reply": "2020-12-08T12:40:17.926729Z"
    },
    "papermill": {
     "duration": 0.067765,
     "end_time": "2020-12-08T12:40:17.927477",
     "exception": false,
     "start_time": "2020-12-08T12:40:17.859712",
     "status": "completed"
    },
    "tags": []
   },
   "outputs": [
    {
     "data": {
      "text/html": [
       "<div>\n",
       "<style scoped>\n",
       "    .dataframe tbody tr th:only-of-type {\n",
       "        vertical-align: middle;\n",
       "    }\n",
       "\n",
       "    .dataframe tbody tr th {\n",
       "        vertical-align: top;\n",
       "    }\n",
       "\n",
       "    .dataframe thead th {\n",
       "        text-align: right;\n",
       "    }\n",
       "</style>\n",
       "<table border=\"1\" class=\"dataframe\">\n",
       "  <thead>\n",
       "    <tr style=\"text-align: right;\">\n",
       "      <th></th>\n",
       "      <th>Id</th>\n",
       "      <th>DistrictId</th>\n",
       "      <th>Rooms</th>\n",
       "      <th>Square</th>\n",
       "      <th>LifeSquare</th>\n",
       "      <th>KitchenSquare</th>\n",
       "      <th>Floor</th>\n",
       "      <th>HouseFloor</th>\n",
       "      <th>HouseYear</th>\n",
       "      <th>Ecology_1</th>\n",
       "      <th>Ecology_2</th>\n",
       "      <th>Ecology_3</th>\n",
       "      <th>Social_1</th>\n",
       "      <th>Social_2</th>\n",
       "      <th>Social_3</th>\n",
       "      <th>Healthcare_1</th>\n",
       "      <th>Helthcare_2</th>\n",
       "      <th>Shops_1</th>\n",
       "      <th>Shops_2</th>\n",
       "    </tr>\n",
       "  </thead>\n",
       "  <tbody>\n",
       "    <tr>\n",
       "      <th>0</th>\n",
       "      <td>725</td>\n",
       "      <td>58</td>\n",
       "      <td>2.0</td>\n",
       "      <td>49.882643</td>\n",
       "      <td>33.432782</td>\n",
       "      <td>6.0</td>\n",
       "      <td>6</td>\n",
       "      <td>14.0</td>\n",
       "      <td>1972</td>\n",
       "      <td>0.310199</td>\n",
       "      <td>B</td>\n",
       "      <td>B</td>\n",
       "      <td>11</td>\n",
       "      <td>2748</td>\n",
       "      <td>1</td>\n",
       "      <td>NaN</td>\n",
       "      <td>0</td>\n",
       "      <td>0</td>\n",
       "      <td>B</td>\n",
       "    </tr>\n",
       "    <tr>\n",
       "      <th>1</th>\n",
       "      <td>15856</td>\n",
       "      <td>74</td>\n",
       "      <td>2.0</td>\n",
       "      <td>69.263183</td>\n",
       "      <td>NaN</td>\n",
       "      <td>1.0</td>\n",
       "      <td>6</td>\n",
       "      <td>1.0</td>\n",
       "      <td>1977</td>\n",
       "      <td>0.075779</td>\n",
       "      <td>B</td>\n",
       "      <td>B</td>\n",
       "      <td>6</td>\n",
       "      <td>1437</td>\n",
       "      <td>3</td>\n",
       "      <td>NaN</td>\n",
       "      <td>0</td>\n",
       "      <td>2</td>\n",
       "      <td>B</td>\n",
       "    </tr>\n",
       "    <tr>\n",
       "      <th>2</th>\n",
       "      <td>5480</td>\n",
       "      <td>190</td>\n",
       "      <td>1.0</td>\n",
       "      <td>13.597819</td>\n",
       "      <td>15.948246</td>\n",
       "      <td>12.0</td>\n",
       "      <td>2</td>\n",
       "      <td>5.0</td>\n",
       "      <td>1909</td>\n",
       "      <td>0.000000</td>\n",
       "      <td>B</td>\n",
       "      <td>B</td>\n",
       "      <td>30</td>\n",
       "      <td>7538</td>\n",
       "      <td>87</td>\n",
       "      <td>4702.0</td>\n",
       "      <td>5</td>\n",
       "      <td>5</td>\n",
       "      <td>B</td>\n",
       "    </tr>\n",
       "    <tr>\n",
       "      <th>3</th>\n",
       "      <td>15664</td>\n",
       "      <td>47</td>\n",
       "      <td>2.0</td>\n",
       "      <td>73.046609</td>\n",
       "      <td>51.940842</td>\n",
       "      <td>9.0</td>\n",
       "      <td>22</td>\n",
       "      <td>22.0</td>\n",
       "      <td>2007</td>\n",
       "      <td>0.101872</td>\n",
       "      <td>B</td>\n",
       "      <td>B</td>\n",
       "      <td>23</td>\n",
       "      <td>4583</td>\n",
       "      <td>3</td>\n",
       "      <td>NaN</td>\n",
       "      <td>3</td>\n",
       "      <td>3</td>\n",
       "      <td>B</td>\n",
       "    </tr>\n",
       "    <tr>\n",
       "      <th>4</th>\n",
       "      <td>14275</td>\n",
       "      <td>27</td>\n",
       "      <td>1.0</td>\n",
       "      <td>47.527111</td>\n",
       "      <td>43.387569</td>\n",
       "      <td>1.0</td>\n",
       "      <td>17</td>\n",
       "      <td>17.0</td>\n",
       "      <td>2017</td>\n",
       "      <td>0.072158</td>\n",
       "      <td>B</td>\n",
       "      <td>B</td>\n",
       "      <td>2</td>\n",
       "      <td>629</td>\n",
       "      <td>1</td>\n",
       "      <td>NaN</td>\n",
       "      <td>0</td>\n",
       "      <td>0</td>\n",
       "      <td>A</td>\n",
       "    </tr>\n",
       "  </tbody>\n",
       "</table>\n",
       "</div>"
      ],
      "text/plain": [
       "      Id  DistrictId  Rooms     Square  LifeSquare  KitchenSquare  Floor  \\\n",
       "0    725          58    2.0  49.882643   33.432782            6.0      6   \n",
       "1  15856          74    2.0  69.263183         NaN            1.0      6   \n",
       "2   5480         190    1.0  13.597819   15.948246           12.0      2   \n",
       "3  15664          47    2.0  73.046609   51.940842            9.0     22   \n",
       "4  14275          27    1.0  47.527111   43.387569            1.0     17   \n",
       "\n",
       "   HouseFloor  HouseYear  Ecology_1 Ecology_2 Ecology_3  Social_1  Social_2  \\\n",
       "0        14.0       1972   0.310199         B         B        11      2748   \n",
       "1         1.0       1977   0.075779         B         B         6      1437   \n",
       "2         5.0       1909   0.000000         B         B        30      7538   \n",
       "3        22.0       2007   0.101872         B         B        23      4583   \n",
       "4        17.0       2017   0.072158         B         B         2       629   \n",
       "\n",
       "   Social_3  Healthcare_1  Helthcare_2  Shops_1 Shops_2  \n",
       "0         1           NaN            0        0       B  \n",
       "1         3           NaN            0        2       B  \n",
       "2        87        4702.0            5        5       B  \n",
       "3         3           NaN            3        3       B  \n",
       "4         1           NaN            0        0       A  "
      ]
     },
     "execution_count": 5,
     "metadata": {},
     "output_type": "execute_result"
    }
   ],
   "source": [
    "df_test = pd.read_csv(test_path)\n",
    "df_test.head()\n",
    "## подгружаем тестовые данные и проверяем"
   ]
  },
  {
   "cell_type": "code",
   "execution_count": 6,
   "metadata": {
    "execution": {
     "iopub.execute_input": "2020-12-08T12:40:17.982855Z",
     "iopub.status.busy": "2020-12-08T12:40:17.981709Z",
     "iopub.status.idle": "2020-12-08T12:40:18.040267Z",
     "shell.execute_reply": "2020-12-08T12:40:18.039751Z"
    },
    "papermill": {
     "duration": 0.089697,
     "end_time": "2020-12-08T12:40:18.040376",
     "exception": false,
     "start_time": "2020-12-08T12:40:17.950679",
     "status": "completed"
    },
    "tags": []
   },
   "outputs": [
    {
     "data": {
      "text/html": [
       "<div>\n",
       "<style scoped>\n",
       "    .dataframe tbody tr th:only-of-type {\n",
       "        vertical-align: middle;\n",
       "    }\n",
       "\n",
       "    .dataframe tbody tr th {\n",
       "        vertical-align: top;\n",
       "    }\n",
       "\n",
       "    .dataframe thead th {\n",
       "        text-align: right;\n",
       "    }\n",
       "</style>\n",
       "<table border=\"1\" class=\"dataframe\">\n",
       "  <thead>\n",
       "    <tr style=\"text-align: right;\">\n",
       "      <th></th>\n",
       "      <th>Id</th>\n",
       "      <th>DistrictId</th>\n",
       "      <th>Rooms</th>\n",
       "      <th>Square</th>\n",
       "      <th>LifeSquare</th>\n",
       "      <th>KitchenSquare</th>\n",
       "      <th>Floor</th>\n",
       "      <th>HouseFloor</th>\n",
       "      <th>HouseYear</th>\n",
       "      <th>Ecology_1</th>\n",
       "      <th>Social_1</th>\n",
       "      <th>Social_2</th>\n",
       "      <th>Social_3</th>\n",
       "      <th>Healthcare_1</th>\n",
       "      <th>Helthcare_2</th>\n",
       "      <th>Shops_1</th>\n",
       "      <th>Price</th>\n",
       "    </tr>\n",
       "  </thead>\n",
       "  <tbody>\n",
       "    <tr>\n",
       "      <th>count</th>\n",
       "      <td>10000.00000</td>\n",
       "      <td>10000.000000</td>\n",
       "      <td>10000.000000</td>\n",
       "      <td>10000.000000</td>\n",
       "      <td>7887.000000</td>\n",
       "      <td>10000.000000</td>\n",
       "      <td>10000.000000</td>\n",
       "      <td>10000.000000</td>\n",
       "      <td>1.000000e+04</td>\n",
       "      <td>10000.000000</td>\n",
       "      <td>10000.000000</td>\n",
       "      <td>10000.000000</td>\n",
       "      <td>10000.000000</td>\n",
       "      <td>5202.000000</td>\n",
       "      <td>10000.000000</td>\n",
       "      <td>10000.000000</td>\n",
       "      <td>10000.000000</td>\n",
       "    </tr>\n",
       "    <tr>\n",
       "      <th>mean</th>\n",
       "      <td>8383.40770</td>\n",
       "      <td>50.400800</td>\n",
       "      <td>1.890500</td>\n",
       "      <td>56.315775</td>\n",
       "      <td>37.199645</td>\n",
       "      <td>6.273300</td>\n",
       "      <td>8.526700</td>\n",
       "      <td>12.609400</td>\n",
       "      <td>3.990166e+03</td>\n",
       "      <td>0.118858</td>\n",
       "      <td>24.687000</td>\n",
       "      <td>5352.157400</td>\n",
       "      <td>8.039200</td>\n",
       "      <td>1142.904460</td>\n",
       "      <td>1.319500</td>\n",
       "      <td>4.231300</td>\n",
       "      <td>214138.857399</td>\n",
       "    </tr>\n",
       "    <tr>\n",
       "      <th>std</th>\n",
       "      <td>4859.01902</td>\n",
       "      <td>43.587592</td>\n",
       "      <td>0.839512</td>\n",
       "      <td>21.058732</td>\n",
       "      <td>86.241209</td>\n",
       "      <td>28.560917</td>\n",
       "      <td>5.241148</td>\n",
       "      <td>6.775974</td>\n",
       "      <td>2.005003e+05</td>\n",
       "      <td>0.119025</td>\n",
       "      <td>17.532614</td>\n",
       "      <td>4006.799803</td>\n",
       "      <td>23.831875</td>\n",
       "      <td>1021.517264</td>\n",
       "      <td>1.493601</td>\n",
       "      <td>4.806341</td>\n",
       "      <td>92872.293865</td>\n",
       "    </tr>\n",
       "    <tr>\n",
       "      <th>min</th>\n",
       "      <td>0.00000</td>\n",
       "      <td>0.000000</td>\n",
       "      <td>0.000000</td>\n",
       "      <td>1.136859</td>\n",
       "      <td>0.370619</td>\n",
       "      <td>0.000000</td>\n",
       "      <td>1.000000</td>\n",
       "      <td>0.000000</td>\n",
       "      <td>1.910000e+03</td>\n",
       "      <td>0.000000</td>\n",
       "      <td>0.000000</td>\n",
       "      <td>168.000000</td>\n",
       "      <td>0.000000</td>\n",
       "      <td>0.000000</td>\n",
       "      <td>0.000000</td>\n",
       "      <td>0.000000</td>\n",
       "      <td>59174.778028</td>\n",
       "    </tr>\n",
       "    <tr>\n",
       "      <th>25%</th>\n",
       "      <td>4169.50000</td>\n",
       "      <td>20.000000</td>\n",
       "      <td>1.000000</td>\n",
       "      <td>41.774881</td>\n",
       "      <td>22.769832</td>\n",
       "      <td>1.000000</td>\n",
       "      <td>4.000000</td>\n",
       "      <td>9.000000</td>\n",
       "      <td>1.974000e+03</td>\n",
       "      <td>0.017647</td>\n",
       "      <td>6.000000</td>\n",
       "      <td>1564.000000</td>\n",
       "      <td>0.000000</td>\n",
       "      <td>350.000000</td>\n",
       "      <td>0.000000</td>\n",
       "      <td>1.000000</td>\n",
       "      <td>153872.633942</td>\n",
       "    </tr>\n",
       "    <tr>\n",
       "      <th>50%</th>\n",
       "      <td>8394.50000</td>\n",
       "      <td>36.000000</td>\n",
       "      <td>2.000000</td>\n",
       "      <td>52.513310</td>\n",
       "      <td>32.781260</td>\n",
       "      <td>6.000000</td>\n",
       "      <td>7.000000</td>\n",
       "      <td>13.000000</td>\n",
       "      <td>1.977000e+03</td>\n",
       "      <td>0.075424</td>\n",
       "      <td>25.000000</td>\n",
       "      <td>5285.000000</td>\n",
       "      <td>2.000000</td>\n",
       "      <td>900.000000</td>\n",
       "      <td>1.000000</td>\n",
       "      <td>3.000000</td>\n",
       "      <td>192269.644879</td>\n",
       "    </tr>\n",
       "    <tr>\n",
       "      <th>75%</th>\n",
       "      <td>12592.50000</td>\n",
       "      <td>75.000000</td>\n",
       "      <td>2.000000</td>\n",
       "      <td>65.900625</td>\n",
       "      <td>45.128803</td>\n",
       "      <td>9.000000</td>\n",
       "      <td>12.000000</td>\n",
       "      <td>17.000000</td>\n",
       "      <td>2.001000e+03</td>\n",
       "      <td>0.195781</td>\n",
       "      <td>36.000000</td>\n",
       "      <td>7227.000000</td>\n",
       "      <td>5.000000</td>\n",
       "      <td>1548.000000</td>\n",
       "      <td>2.000000</td>\n",
       "      <td>6.000000</td>\n",
       "      <td>249135.462171</td>\n",
       "    </tr>\n",
       "    <tr>\n",
       "      <th>max</th>\n",
       "      <td>16798.00000</td>\n",
       "      <td>209.000000</td>\n",
       "      <td>19.000000</td>\n",
       "      <td>641.065193</td>\n",
       "      <td>7480.592129</td>\n",
       "      <td>2014.000000</td>\n",
       "      <td>42.000000</td>\n",
       "      <td>117.000000</td>\n",
       "      <td>2.005201e+07</td>\n",
       "      <td>0.521867</td>\n",
       "      <td>74.000000</td>\n",
       "      <td>19083.000000</td>\n",
       "      <td>141.000000</td>\n",
       "      <td>4849.000000</td>\n",
       "      <td>6.000000</td>\n",
       "      <td>23.000000</td>\n",
       "      <td>633233.466570</td>\n",
       "    </tr>\n",
       "  </tbody>\n",
       "</table>\n",
       "</div>"
      ],
      "text/plain": [
       "                Id    DistrictId         Rooms        Square   LifeSquare  \\\n",
       "count  10000.00000  10000.000000  10000.000000  10000.000000  7887.000000   \n",
       "mean    8383.40770     50.400800      1.890500     56.315775    37.199645   \n",
       "std     4859.01902     43.587592      0.839512     21.058732    86.241209   \n",
       "min        0.00000      0.000000      0.000000      1.136859     0.370619   \n",
       "25%     4169.50000     20.000000      1.000000     41.774881    22.769832   \n",
       "50%     8394.50000     36.000000      2.000000     52.513310    32.781260   \n",
       "75%    12592.50000     75.000000      2.000000     65.900625    45.128803   \n",
       "max    16798.00000    209.000000     19.000000    641.065193  7480.592129   \n",
       "\n",
       "       KitchenSquare         Floor    HouseFloor     HouseYear     Ecology_1  \\\n",
       "count   10000.000000  10000.000000  10000.000000  1.000000e+04  10000.000000   \n",
       "mean        6.273300      8.526700     12.609400  3.990166e+03      0.118858   \n",
       "std        28.560917      5.241148      6.775974  2.005003e+05      0.119025   \n",
       "min         0.000000      1.000000      0.000000  1.910000e+03      0.000000   \n",
       "25%         1.000000      4.000000      9.000000  1.974000e+03      0.017647   \n",
       "50%         6.000000      7.000000     13.000000  1.977000e+03      0.075424   \n",
       "75%         9.000000     12.000000     17.000000  2.001000e+03      0.195781   \n",
       "max      2014.000000     42.000000    117.000000  2.005201e+07      0.521867   \n",
       "\n",
       "           Social_1      Social_2      Social_3  Healthcare_1   Helthcare_2  \\\n",
       "count  10000.000000  10000.000000  10000.000000   5202.000000  10000.000000   \n",
       "mean      24.687000   5352.157400      8.039200   1142.904460      1.319500   \n",
       "std       17.532614   4006.799803     23.831875   1021.517264      1.493601   \n",
       "min        0.000000    168.000000      0.000000      0.000000      0.000000   \n",
       "25%        6.000000   1564.000000      0.000000    350.000000      0.000000   \n",
       "50%       25.000000   5285.000000      2.000000    900.000000      1.000000   \n",
       "75%       36.000000   7227.000000      5.000000   1548.000000      2.000000   \n",
       "max       74.000000  19083.000000    141.000000   4849.000000      6.000000   \n",
       "\n",
       "            Shops_1          Price  \n",
       "count  10000.000000   10000.000000  \n",
       "mean       4.231300  214138.857399  \n",
       "std        4.806341   92872.293865  \n",
       "min        0.000000   59174.778028  \n",
       "25%        1.000000  153872.633942  \n",
       "50%        3.000000  192269.644879  \n",
       "75%        6.000000  249135.462171  \n",
       "max       23.000000  633233.466570  "
      ]
     },
     "execution_count": 6,
     "metadata": {},
     "output_type": "execute_result"
    }
   ],
   "source": [
    "df_train.describe()\n",
    "\n",
    "# Видны проблемы в следющих столбцах:\n",
    "# Rooms - есть квартиры с 0 комнат, 75% от всех значений = 2 комнатам, а максимальное значение = 19 - вероятно что есть выбросы\n",
    "# в LifeSquare и KitchenSquare максимальные значения выше чем Square - есть явно некорректные значения\n",
    "# Floor - потенциальное место с выбросами в верхних этажах\n",
    "# HouseFloor - есть дома с 0 этажей\n",
    "# HouseYear - есть странные значения годов\n",
    "# Остальные стоит проверить на выбросы и числовые данные, которые на самом деле являются категориями, а не числами"
   ]
  },
  {
   "cell_type": "code",
   "execution_count": 7,
   "metadata": {
    "execution": {
     "iopub.execute_input": "2020-12-08T12:40:18.102695Z",
     "iopub.status.busy": "2020-12-08T12:40:18.101978Z",
     "iopub.status.idle": "2020-12-08T12:40:18.124327Z",
     "shell.execute_reply": "2020-12-08T12:40:18.123768Z"
    },
    "papermill": {
     "duration": 0.060001,
     "end_time": "2020-12-08T12:40:18.124459",
     "exception": false,
     "start_time": "2020-12-08T12:40:18.064458",
     "status": "completed"
    },
    "tags": []
   },
   "outputs": [],
   "source": [
    "def types_df(df):\n",
    "    df['Id'] = df['Id'].astype(str)\n",
    "    df['DistrictId'] = df['DistrictId'].astype(str)\n",
    "    return df\n",
    "df_train = types_df(df_train)\n",
    "df_test = types_df(df_test)"
   ]
  },
  {
   "cell_type": "code",
   "execution_count": 8,
   "metadata": {
    "execution": {
     "iopub.execute_input": "2020-12-08T12:40:18.182352Z",
     "iopub.status.busy": "2020-12-08T12:40:18.181175Z",
     "iopub.status.idle": "2020-12-08T12:40:18.185778Z",
     "shell.execute_reply": "2020-12-08T12:40:18.185206Z"
    },
    "papermill": {
     "duration": 0.037249,
     "end_time": "2020-12-08T12:40:18.185891",
     "exception": false,
     "start_time": "2020-12-08T12:40:18.148642",
     "status": "completed"
    },
    "tags": []
   },
   "outputs": [
    {
     "data": {
      "text/plain": [
       "Id                object\n",
       "DistrictId        object\n",
       "Rooms            float64\n",
       "Square           float64\n",
       "LifeSquare       float64\n",
       "KitchenSquare    float64\n",
       "Floor              int64\n",
       "HouseFloor       float64\n",
       "HouseYear          int64\n",
       "Ecology_1        float64\n",
       "Ecology_2         object\n",
       "Ecology_3         object\n",
       "Social_1           int64\n",
       "Social_2           int64\n",
       "Social_3           int64\n",
       "Healthcare_1     float64\n",
       "Helthcare_2        int64\n",
       "Shops_1            int64\n",
       "Shops_2           object\n",
       "Price            float64\n",
       "dtype: object"
      ]
     },
     "execution_count": 8,
     "metadata": {},
     "output_type": "execute_result"
    }
   ],
   "source": [
    "df_train.dtypes"
   ]
  },
  {
   "cell_type": "code",
   "execution_count": 9,
   "metadata": {
    "execution": {
     "iopub.execute_input": "2020-12-08T12:40:18.243541Z",
     "iopub.status.busy": "2020-12-08T12:40:18.242874Z",
     "iopub.status.idle": "2020-12-08T12:40:18.249687Z",
     "shell.execute_reply": "2020-12-08T12:40:18.249063Z"
    },
    "papermill": {
     "duration": 0.038794,
     "end_time": "2020-12-08T12:40:18.249802",
     "exception": false,
     "start_time": "2020-12-08T12:40:18.211008",
     "status": "completed"
    },
    "tags": []
   },
   "outputs": [
    {
     "data": {
      "text/plain": [
       "Id                  0\n",
       "DistrictId          0\n",
       "Rooms               0\n",
       "Square              0\n",
       "LifeSquare       2113\n",
       "KitchenSquare       0\n",
       "Floor               0\n",
       "HouseFloor          0\n",
       "HouseYear           0\n",
       "Ecology_1           0\n",
       "Ecology_2           0\n",
       "Ecology_3           0\n",
       "Social_1            0\n",
       "Social_2            0\n",
       "Social_3            0\n",
       "Healthcare_1     4798\n",
       "Helthcare_2         0\n",
       "Shops_1             0\n",
       "Shops_2             0\n",
       "Price               0\n",
       "dtype: int64"
      ]
     },
     "execution_count": 9,
     "metadata": {},
     "output_type": "execute_result"
    }
   ],
   "source": [
    "df_train.isna().sum()\n",
    "## нужно будет отработать неопознанные значения в LifeSquare, Healthcare_1"
   ]
  },
  {
   "cell_type": "code",
   "execution_count": 10,
   "metadata": {
    "execution": {
     "iopub.execute_input": "2020-12-08T12:40:18.306776Z",
     "iopub.status.busy": "2020-12-08T12:40:18.304239Z",
     "iopub.status.idle": "2020-12-08T12:40:18.311104Z",
     "shell.execute_reply": "2020-12-08T12:40:18.310406Z"
    },
    "papermill": {
     "duration": 0.03621,
     "end_time": "2020-12-08T12:40:18.311222",
     "exception": false,
     "start_time": "2020-12-08T12:40:18.275012",
     "status": "completed"
    },
    "tags": []
   },
   "outputs": [
    {
     "data": {
      "text/plain": [
       "2.0     3880\n",
       "1.0     3705\n",
       "3.0     2235\n",
       "4.0      150\n",
       "5.0       18\n",
       "0.0        8\n",
       "10.0       2\n",
       "19.0       1\n",
       "6.0        1\n",
       "Name: Rooms, dtype: int64"
      ]
     },
     "execution_count": 10,
     "metadata": {},
     "output_type": "execute_result"
    }
   ],
   "source": [
    "df_train['Rooms'].value_counts()\n",
    "## Проверим количество комнат"
   ]
  },
  {
   "cell_type": "code",
   "execution_count": 11,
   "metadata": {
    "execution": {
     "iopub.execute_input": "2020-12-08T12:40:18.368471Z",
     "iopub.status.busy": "2020-12-08T12:40:18.367852Z",
     "iopub.status.idle": "2020-12-08T12:40:18.396927Z",
     "shell.execute_reply": "2020-12-08T12:40:18.396212Z"
    },
    "papermill": {
     "duration": 0.06036,
     "end_time": "2020-12-08T12:40:18.397042",
     "exception": false,
     "start_time": "2020-12-08T12:40:18.336682",
     "status": "completed"
    },
    "tags": []
   },
   "outputs": [],
   "source": [
    "def setRooms(df):\n",
    "    df.loc[df['Rooms'] == 0, 'Rooms'] = 1\n",
    "    df.loc[df['Rooms'] > 5, 'Rooms'] = 5\n",
    "    return df\n",
    "\n",
    "df_train = setRooms(df_train)\n",
    "df_test = setRooms(df_test)\n",
    "## верхние выбросы закинем в максимальное значение, которое не будем считать выбросом"
   ]
  },
  {
   "cell_type": "code",
   "execution_count": 12,
   "metadata": {
    "execution": {
     "iopub.execute_input": "2020-12-08T12:40:18.455584Z",
     "iopub.status.busy": "2020-12-08T12:40:18.454539Z",
     "iopub.status.idle": "2020-12-08T12:40:18.460576Z",
     "shell.execute_reply": "2020-12-08T12:40:18.460019Z"
    },
    "papermill": {
     "duration": 0.038248,
     "end_time": "2020-12-08T12:40:18.460686",
     "exception": false,
     "start_time": "2020-12-08T12:40:18.422438",
     "status": "completed"
    },
    "tags": []
   },
   "outputs": [
    {
     "data": {
      "text/plain": [
       "(5.128916069316165, 183.3847969007745)"
      ]
     },
     "execution_count": 12,
     "metadata": {},
     "output_type": "execute_result"
    }
   ],
   "source": [
    "df_train['Square'].quantile(.001), df_train['Square'].quantile(.999)\n",
    "## Попробуем выкинуть все тренировочные значения, которые не попадают в этот диапазон, расширенный на 10%\n",
    "## т.к. явно квартиры менее 5 кв.м. и более 200 кв.м. встреаются редко и являются выбросами"
   ]
  },
  {
   "cell_type": "code",
   "execution_count": 13,
   "metadata": {
    "execution": {
     "iopub.execute_input": "2020-12-08T12:40:18.522153Z",
     "iopub.status.busy": "2020-12-08T12:40:18.521013Z",
     "iopub.status.idle": "2020-12-08T12:40:18.528145Z",
     "shell.execute_reply": "2020-12-08T12:40:18.527564Z"
    },
    "papermill": {
     "duration": 0.041703,
     "end_time": "2020-12-08T12:40:18.528262",
     "exception": false,
     "start_time": "2020-12-08T12:40:18.486559",
     "status": "completed"
    },
    "tags": []
   },
   "outputs": [],
   "source": [
    "df_train = df_train.drop(df_train[(df_train['Square'] < 5) | (df_train['Square'] > 200)].index)"
   ]
  },
  {
   "cell_type": "code",
   "execution_count": 14,
   "metadata": {
    "execution": {
     "iopub.execute_input": "2020-12-08T12:40:18.588408Z",
     "iopub.status.busy": "2020-12-08T12:40:18.587387Z",
     "iopub.status.idle": "2020-12-08T12:40:18.637978Z",
     "shell.execute_reply": "2020-12-08T12:40:18.637421Z"
    },
    "papermill": {
     "duration": 0.083894,
     "end_time": "2020-12-08T12:40:18.638090",
     "exception": false,
     "start_time": "2020-12-08T12:40:18.554196",
     "status": "completed"
    },
    "tags": []
   },
   "outputs": [
    {
     "data": {
      "text/html": [
       "<div>\n",
       "<style scoped>\n",
       "    .dataframe tbody tr th:only-of-type {\n",
       "        vertical-align: middle;\n",
       "    }\n",
       "\n",
       "    .dataframe tbody tr th {\n",
       "        vertical-align: top;\n",
       "    }\n",
       "\n",
       "    .dataframe thead th {\n",
       "        text-align: right;\n",
       "    }\n",
       "</style>\n",
       "<table border=\"1\" class=\"dataframe\">\n",
       "  <thead>\n",
       "    <tr style=\"text-align: right;\">\n",
       "      <th></th>\n",
       "      <th>Rooms</th>\n",
       "      <th>Square</th>\n",
       "      <th>LifeSquare</th>\n",
       "      <th>KitchenSquare</th>\n",
       "      <th>Floor</th>\n",
       "      <th>HouseFloor</th>\n",
       "      <th>HouseYear</th>\n",
       "      <th>Ecology_1</th>\n",
       "      <th>Social_1</th>\n",
       "      <th>Social_2</th>\n",
       "      <th>Social_3</th>\n",
       "      <th>Healthcare_1</th>\n",
       "      <th>Helthcare_2</th>\n",
       "      <th>Shops_1</th>\n",
       "      <th>Price</th>\n",
       "    </tr>\n",
       "  </thead>\n",
       "  <tbody>\n",
       "    <tr>\n",
       "      <th>count</th>\n",
       "      <td>9984.000000</td>\n",
       "      <td>9984.000000</td>\n",
       "      <td>7872.000000</td>\n",
       "      <td>9984.000000</td>\n",
       "      <td>9984.000000</td>\n",
       "      <td>9984.000000</td>\n",
       "      <td>9.984000e+03</td>\n",
       "      <td>9984.000000</td>\n",
       "      <td>9984.000000</td>\n",
       "      <td>9984.000000</td>\n",
       "      <td>9984.000000</td>\n",
       "      <td>5196.000000</td>\n",
       "      <td>9984.000000</td>\n",
       "      <td>9984.000000</td>\n",
       "      <td>9984.000000</td>\n",
       "    </tr>\n",
       "    <tr>\n",
       "      <th>mean</th>\n",
       "      <td>1.888922</td>\n",
       "      <td>56.167854</td>\n",
       "      <td>37.035990</td>\n",
       "      <td>6.275341</td>\n",
       "      <td>8.524639</td>\n",
       "      <td>12.612680</td>\n",
       "      <td>3.993363e+03</td>\n",
       "      <td>0.118863</td>\n",
       "      <td>24.697716</td>\n",
       "      <td>5353.857772</td>\n",
       "      <td>8.035156</td>\n",
       "      <td>1142.809854</td>\n",
       "      <td>1.320012</td>\n",
       "      <td>4.231170</td>\n",
       "      <td>214068.636061</td>\n",
       "    </tr>\n",
       "    <tr>\n",
       "      <th>std</th>\n",
       "      <td>0.812961</td>\n",
       "      <td>18.844926</td>\n",
       "      <td>85.875020</td>\n",
       "      <td>28.581805</td>\n",
       "      <td>5.234671</td>\n",
       "      <td>6.766991</td>\n",
       "      <td>2.006609e+05</td>\n",
       "      <td>0.119063</td>\n",
       "      <td>17.532551</td>\n",
       "      <td>4006.029681</td>\n",
       "      <td>23.812438</td>\n",
       "      <td>1020.833557</td>\n",
       "      <td>1.493871</td>\n",
       "      <td>4.804695</td>\n",
       "      <td>92724.208665</td>\n",
       "    </tr>\n",
       "    <tr>\n",
       "      <th>min</th>\n",
       "      <td>1.000000</td>\n",
       "      <td>5.129222</td>\n",
       "      <td>0.370619</td>\n",
       "      <td>0.000000</td>\n",
       "      <td>1.000000</td>\n",
       "      <td>0.000000</td>\n",
       "      <td>1.910000e+03</td>\n",
       "      <td>0.000000</td>\n",
       "      <td>0.000000</td>\n",
       "      <td>168.000000</td>\n",
       "      <td>0.000000</td>\n",
       "      <td>0.000000</td>\n",
       "      <td>0.000000</td>\n",
       "      <td>0.000000</td>\n",
       "      <td>59174.778028</td>\n",
       "    </tr>\n",
       "    <tr>\n",
       "      <th>25%</th>\n",
       "      <td>1.000000</td>\n",
       "      <td>41.784346</td>\n",
       "      <td>22.798130</td>\n",
       "      <td>1.000000</td>\n",
       "      <td>4.000000</td>\n",
       "      <td>9.000000</td>\n",
       "      <td>1.974000e+03</td>\n",
       "      <td>0.017647</td>\n",
       "      <td>6.000000</td>\n",
       "      <td>1564.000000</td>\n",
       "      <td>0.000000</td>\n",
       "      <td>350.000000</td>\n",
       "      <td>0.000000</td>\n",
       "      <td>1.000000</td>\n",
       "      <td>153907.528147</td>\n",
       "    </tr>\n",
       "    <tr>\n",
       "      <th>50%</th>\n",
       "      <td>2.000000</td>\n",
       "      <td>52.529412</td>\n",
       "      <td>32.782779</td>\n",
       "      <td>6.000000</td>\n",
       "      <td>7.000000</td>\n",
       "      <td>13.000000</td>\n",
       "      <td>1.977000e+03</td>\n",
       "      <td>0.075424</td>\n",
       "      <td>25.000000</td>\n",
       "      <td>5285.000000</td>\n",
       "      <td>2.000000</td>\n",
       "      <td>900.000000</td>\n",
       "      <td>1.000000</td>\n",
       "      <td>3.000000</td>\n",
       "      <td>192290.039215</td>\n",
       "    </tr>\n",
       "    <tr>\n",
       "      <th>75%</th>\n",
       "      <td>2.000000</td>\n",
       "      <td>65.890819</td>\n",
       "      <td>45.112286</td>\n",
       "      <td>9.000000</td>\n",
       "      <td>12.000000</td>\n",
       "      <td>17.000000</td>\n",
       "      <td>2.001000e+03</td>\n",
       "      <td>0.195781</td>\n",
       "      <td>36.000000</td>\n",
       "      <td>7227.000000</td>\n",
       "      <td>5.000000</td>\n",
       "      <td>1548.000000</td>\n",
       "      <td>2.000000</td>\n",
       "      <td>6.000000</td>\n",
       "      <td>249100.769116</td>\n",
       "    </tr>\n",
       "    <tr>\n",
       "      <th>max</th>\n",
       "      <td>5.000000</td>\n",
       "      <td>198.930182</td>\n",
       "      <td>7480.592129</td>\n",
       "      <td>2014.000000</td>\n",
       "      <td>42.000000</td>\n",
       "      <td>117.000000</td>\n",
       "      <td>2.005201e+07</td>\n",
       "      <td>0.521867</td>\n",
       "      <td>74.000000</td>\n",
       "      <td>19083.000000</td>\n",
       "      <td>141.000000</td>\n",
       "      <td>4849.000000</td>\n",
       "      <td>6.000000</td>\n",
       "      <td>23.000000</td>\n",
       "      <td>633233.466570</td>\n",
       "    </tr>\n",
       "  </tbody>\n",
       "</table>\n",
       "</div>"
      ],
      "text/plain": [
       "             Rooms       Square   LifeSquare  KitchenSquare        Floor  \\\n",
       "count  9984.000000  9984.000000  7872.000000    9984.000000  9984.000000   \n",
       "mean      1.888922    56.167854    37.035990       6.275341     8.524639   \n",
       "std       0.812961    18.844926    85.875020      28.581805     5.234671   \n",
       "min       1.000000     5.129222     0.370619       0.000000     1.000000   \n",
       "25%       1.000000    41.784346    22.798130       1.000000     4.000000   \n",
       "50%       2.000000    52.529412    32.782779       6.000000     7.000000   \n",
       "75%       2.000000    65.890819    45.112286       9.000000    12.000000   \n",
       "max       5.000000   198.930182  7480.592129    2014.000000    42.000000   \n",
       "\n",
       "        HouseFloor     HouseYear    Ecology_1     Social_1      Social_2  \\\n",
       "count  9984.000000  9.984000e+03  9984.000000  9984.000000   9984.000000   \n",
       "mean     12.612680  3.993363e+03     0.118863    24.697716   5353.857772   \n",
       "std       6.766991  2.006609e+05     0.119063    17.532551   4006.029681   \n",
       "min       0.000000  1.910000e+03     0.000000     0.000000    168.000000   \n",
       "25%       9.000000  1.974000e+03     0.017647     6.000000   1564.000000   \n",
       "50%      13.000000  1.977000e+03     0.075424    25.000000   5285.000000   \n",
       "75%      17.000000  2.001000e+03     0.195781    36.000000   7227.000000   \n",
       "max     117.000000  2.005201e+07     0.521867    74.000000  19083.000000   \n",
       "\n",
       "          Social_3  Healthcare_1  Helthcare_2      Shops_1          Price  \n",
       "count  9984.000000   5196.000000  9984.000000  9984.000000    9984.000000  \n",
       "mean      8.035156   1142.809854     1.320012     4.231170  214068.636061  \n",
       "std      23.812438   1020.833557     1.493871     4.804695   92724.208665  \n",
       "min       0.000000      0.000000     0.000000     0.000000   59174.778028  \n",
       "25%       0.000000    350.000000     0.000000     1.000000  153907.528147  \n",
       "50%       2.000000    900.000000     1.000000     3.000000  192290.039215  \n",
       "75%       5.000000   1548.000000     2.000000     6.000000  249100.769116  \n",
       "max     141.000000   4849.000000     6.000000    23.000000  633233.466570  "
      ]
     },
     "execution_count": 14,
     "metadata": {},
     "output_type": "execute_result"
    }
   ],
   "source": [
    "df_train.describe()"
   ]
  },
  {
   "cell_type": "code",
   "execution_count": 15,
   "metadata": {
    "execution": {
     "iopub.execute_input": "2020-12-08T12:40:18.699483Z",
     "iopub.status.busy": "2020-12-08T12:40:18.698427Z",
     "iopub.status.idle": "2020-12-08T12:40:18.703447Z",
     "shell.execute_reply": "2020-12-08T12:40:18.702928Z"
    },
    "papermill": {
     "duration": 0.039094,
     "end_time": "2020-12-08T12:40:18.703574",
     "exception": false,
     "start_time": "2020-12-08T12:40:18.664480",
     "status": "completed"
    },
    "tags": []
   },
   "outputs": [],
   "source": [
    "## Избавимся от выбросов в KitchenSquare\n",
    "## Найдем медиану KitchenSquare / Square в неошибочных значениях\n",
    "def condKitch(df):\n",
    "    return (df['KitchenSquare'] < 3) | (df['KitchenSquare'] >= df['Square'])\n",
    "cond1 = condKitch(df_train)\n",
    "medKitchen = (df_train.loc[~cond1, 'KitchenSquare'] / df_train.loc[~cond1, 'Square']).median()"
   ]
  },
  {
   "cell_type": "code",
   "execution_count": 16,
   "metadata": {
    "execution": {
     "iopub.execute_input": "2020-12-08T12:40:18.761931Z",
     "iopub.status.busy": "2020-12-08T12:40:18.761257Z",
     "iopub.status.idle": "2020-12-08T12:40:18.768997Z",
     "shell.execute_reply": "2020-12-08T12:40:18.768419Z"
    },
    "papermill": {
     "duration": 0.038942,
     "end_time": "2020-12-08T12:40:18.769116",
     "exception": false,
     "start_time": "2020-12-08T12:40:18.730174",
     "status": "completed"
    },
    "tags": []
   },
   "outputs": [
    {
     "data": {
      "text/plain": [
       "False    6831\n",
       "True     3153\n",
       "dtype: int64"
      ]
     },
     "execution_count": 16,
     "metadata": {},
     "output_type": "execute_result"
    }
   ],
   "source": [
    "cond1.value_counts()"
   ]
  },
  {
   "cell_type": "code",
   "execution_count": 17,
   "metadata": {
    "execution": {
     "iopub.execute_input": "2020-12-08T12:40:18.830331Z",
     "iopub.status.busy": "2020-12-08T12:40:18.829605Z",
     "iopub.status.idle": "2020-12-08T12:40:18.836122Z",
     "shell.execute_reply": "2020-12-08T12:40:18.836876Z"
    },
    "papermill": {
     "duration": 0.04077,
     "end_time": "2020-12-08T12:40:18.837029",
     "exception": false,
     "start_time": "2020-12-08T12:40:18.796259",
     "status": "completed"
    },
    "tags": []
   },
   "outputs": [],
   "source": [
    "df_train.loc[cond1, 'KitchenSquare'] = df_train['Square'] * medKitchen\n",
    "df_test.loc[condKitch(df_test), 'KitchenSquare'] = df_test['Square'] * medKitchen\n",
    "## для тренировочных данных посчитаем медиану KitchenSquare / Square и в ошибочных случаях поменяем KitchenSquare на медиану от Square и в тренировочных и в тестовых данных"
   ]
  },
  {
   "cell_type": "code",
   "execution_count": 18,
   "metadata": {
    "execution": {
     "iopub.execute_input": "2020-12-08T12:40:18.904019Z",
     "iopub.status.busy": "2020-12-08T12:40:18.903061Z",
     "iopub.status.idle": "2020-12-08T12:40:18.907348Z",
     "shell.execute_reply": "2020-12-08T12:40:18.906788Z"
    },
    "papermill": {
     "duration": 0.042996,
     "end_time": "2020-12-08T12:40:18.907482",
     "exception": false,
     "start_time": "2020-12-08T12:40:18.864486",
     "status": "completed"
    },
    "tags": []
   },
   "outputs": [],
   "source": [
    "## Сделаем похожую операцию с LifeSquare предварительно заполнив \"0\" пустые значения\n",
    "def condLife(df):\n",
    "    return (df['LifeSquare'] == 0) | (df['LifeSquare'] >= df['Square'])\n",
    "\n",
    "df_train.loc[df_train['LifeSquare'].isna(), 'LifeSquare'] = 0\n",
    "df_test.loc[df_test['LifeSquare'].isna(), 'LifeSquare'] = 0\n",
    "\n",
    "cond2 = condLife(df_train)\n",
    "medLife = (df_train.loc[~cond2, 'LifeSquare'] / df_train.loc[~cond2, 'Square']).median()"
   ]
  },
  {
   "cell_type": "code",
   "execution_count": 19,
   "metadata": {
    "execution": {
     "iopub.execute_input": "2020-12-08T12:40:18.969396Z",
     "iopub.status.busy": "2020-12-08T12:40:18.968245Z",
     "iopub.status.idle": "2020-12-08T12:40:18.980839Z",
     "shell.execute_reply": "2020-12-08T12:40:18.980245Z"
    },
    "papermill": {
     "duration": 0.046096,
     "end_time": "2020-12-08T12:40:18.980973",
     "exception": false,
     "start_time": "2020-12-08T12:40:18.934877",
     "status": "completed"
    },
    "tags": []
   },
   "outputs": [],
   "source": [
    "df_train.loc[cond2, 'LifeSquare'] = df_train['Square'] * medLife\n",
    "df_test.loc[condLife(df_test), 'LifeSquare'] = df_test['Square'] * medKitchen"
   ]
  },
  {
   "cell_type": "code",
   "execution_count": 20,
   "metadata": {
    "execution": {
     "iopub.execute_input": "2020-12-08T12:40:19.051147Z",
     "iopub.status.busy": "2020-12-08T12:40:19.050373Z",
     "iopub.status.idle": "2020-12-08T12:40:19.056846Z",
     "shell.execute_reply": "2020-12-08T12:40:19.056203Z"
    },
    "papermill": {
     "duration": 0.042389,
     "end_time": "2020-12-08T12:40:19.056956",
     "exception": false,
     "start_time": "2020-12-08T12:40:19.014567",
     "status": "completed"
    },
    "tags": []
   },
   "outputs": [],
   "source": [
    "def houseFloors(df):\n",
    "    df.loc[df['HouseFloor'] == 0, 'HouseFloor'] = df_train.loc[df_train['HouseFloor'] != 0, 'HouseFloor'].median()\n",
    "    return df\n",
    "\n",
    "df_train = houseFloors(df_train)\n",
    "df_test = houseFloors(df_test)\n",
    "## Для домов с количеством этажей = 0 ставим медиану среди всех домов в тренировочном наборе"
   ]
  },
  {
   "cell_type": "code",
   "execution_count": 21,
   "metadata": {
    "execution": {
     "iopub.execute_input": "2020-12-08T12:40:19.120921Z",
     "iopub.status.busy": "2020-12-08T12:40:19.119830Z",
     "iopub.status.idle": "2020-12-08T12:40:19.123144Z",
     "shell.execute_reply": "2020-12-08T12:40:19.122627Z"
    },
    "papermill": {
     "duration": 0.039094,
     "end_time": "2020-12-08T12:40:19.123276",
     "exception": false,
     "start_time": "2020-12-08T12:40:19.084182",
     "status": "completed"
    },
    "tags": []
   },
   "outputs": [],
   "source": [
    "df_train.loc[df_train['HouseFloor'] > df_train['HouseFloor'] , 'Floor'] = df_train['HouseFloor']\n",
    "df_test.loc[df_test['HouseFloor'] > df_test['HouseFloor'] , 'Floor'] = df_test['HouseFloor']"
   ]
  },
  {
   "cell_type": "code",
   "execution_count": 22,
   "metadata": {
    "execution": {
     "iopub.execute_input": "2020-12-08T12:40:19.187805Z",
     "iopub.status.busy": "2020-12-08T12:40:19.187047Z",
     "iopub.status.idle": "2020-12-08T12:40:19.240754Z",
     "shell.execute_reply": "2020-12-08T12:40:19.240134Z"
    },
    "papermill": {
     "duration": 0.089614,
     "end_time": "2020-12-08T12:40:19.240880",
     "exception": false,
     "start_time": "2020-12-08T12:40:19.151266",
     "status": "completed"
    },
    "tags": []
   },
   "outputs": [
    {
     "data": {
      "text/html": [
       "<div>\n",
       "<style scoped>\n",
       "    .dataframe tbody tr th:only-of-type {\n",
       "        vertical-align: middle;\n",
       "    }\n",
       "\n",
       "    .dataframe tbody tr th {\n",
       "        vertical-align: top;\n",
       "    }\n",
       "\n",
       "    .dataframe thead th {\n",
       "        text-align: right;\n",
       "    }\n",
       "</style>\n",
       "<table border=\"1\" class=\"dataframe\">\n",
       "  <thead>\n",
       "    <tr style=\"text-align: right;\">\n",
       "      <th></th>\n",
       "      <th>Rooms</th>\n",
       "      <th>Square</th>\n",
       "      <th>LifeSquare</th>\n",
       "      <th>KitchenSquare</th>\n",
       "      <th>Floor</th>\n",
       "      <th>HouseFloor</th>\n",
       "      <th>HouseYear</th>\n",
       "      <th>Ecology_1</th>\n",
       "      <th>Social_1</th>\n",
       "      <th>Social_2</th>\n",
       "      <th>Social_3</th>\n",
       "      <th>Healthcare_1</th>\n",
       "      <th>Helthcare_2</th>\n",
       "      <th>Shops_1</th>\n",
       "      <th>Price</th>\n",
       "    </tr>\n",
       "  </thead>\n",
       "  <tbody>\n",
       "    <tr>\n",
       "      <th>count</th>\n",
       "      <td>9984.000000</td>\n",
       "      <td>9984.000000</td>\n",
       "      <td>9984.000000</td>\n",
       "      <td>9984.000000</td>\n",
       "      <td>9984.000000</td>\n",
       "      <td>9984.000000</td>\n",
       "      <td>9.984000e+03</td>\n",
       "      <td>9984.000000</td>\n",
       "      <td>9984.000000</td>\n",
       "      <td>9984.000000</td>\n",
       "      <td>9984.000000</td>\n",
       "      <td>5196.000000</td>\n",
       "      <td>9984.000000</td>\n",
       "      <td>9984.000000</td>\n",
       "      <td>9984.000000</td>\n",
       "    </tr>\n",
       "    <tr>\n",
       "      <th>mean</th>\n",
       "      <td>1.888922</td>\n",
       "      <td>56.167854</td>\n",
       "      <td>34.987361</td>\n",
       "      <td>8.425735</td>\n",
       "      <td>8.524639</td>\n",
       "      <td>12.988482</td>\n",
       "      <td>3.993363e+03</td>\n",
       "      <td>0.118863</td>\n",
       "      <td>24.697716</td>\n",
       "      <td>5353.857772</td>\n",
       "      <td>8.035156</td>\n",
       "      <td>1142.809854</td>\n",
       "      <td>1.320012</td>\n",
       "      <td>4.231170</td>\n",
       "      <td>214068.636061</td>\n",
       "    </tr>\n",
       "    <tr>\n",
       "      <th>std</th>\n",
       "      <td>0.812961</td>\n",
       "      <td>18.844926</td>\n",
       "      <td>15.002784</td>\n",
       "      <td>4.063516</td>\n",
       "      <td>5.234671</td>\n",
       "      <td>6.436770</td>\n",
       "      <td>2.006609e+05</td>\n",
       "      <td>0.119063</td>\n",
       "      <td>17.532551</td>\n",
       "      <td>4006.029681</td>\n",
       "      <td>23.812438</td>\n",
       "      <td>1020.833557</td>\n",
       "      <td>1.493871</td>\n",
       "      <td>4.804695</td>\n",
       "      <td>92724.208665</td>\n",
       "    </tr>\n",
       "    <tr>\n",
       "      <th>min</th>\n",
       "      <td>1.000000</td>\n",
       "      <td>5.129222</td>\n",
       "      <td>0.370619</td>\n",
       "      <td>0.759914</td>\n",
       "      <td>1.000000</td>\n",
       "      <td>1.000000</td>\n",
       "      <td>1.910000e+03</td>\n",
       "      <td>0.000000</td>\n",
       "      <td>0.000000</td>\n",
       "      <td>168.000000</td>\n",
       "      <td>0.000000</td>\n",
       "      <td>0.000000</td>\n",
       "      <td>0.000000</td>\n",
       "      <td>0.000000</td>\n",
       "      <td>59174.778028</td>\n",
       "    </tr>\n",
       "    <tr>\n",
       "      <th>25%</th>\n",
       "      <td>1.000000</td>\n",
       "      <td>41.784346</td>\n",
       "      <td>23.853288</td>\n",
       "      <td>6.000000</td>\n",
       "      <td>4.000000</td>\n",
       "      <td>9.000000</td>\n",
       "      <td>1.974000e+03</td>\n",
       "      <td>0.017647</td>\n",
       "      <td>6.000000</td>\n",
       "      <td>1564.000000</td>\n",
       "      <td>0.000000</td>\n",
       "      <td>350.000000</td>\n",
       "      <td>0.000000</td>\n",
       "      <td>1.000000</td>\n",
       "      <td>153907.528147</td>\n",
       "    </tr>\n",
       "    <tr>\n",
       "      <th>50%</th>\n",
       "      <td>2.000000</td>\n",
       "      <td>52.529412</td>\n",
       "      <td>32.581760</td>\n",
       "      <td>8.000000</td>\n",
       "      <td>7.000000</td>\n",
       "      <td>14.000000</td>\n",
       "      <td>1.977000e+03</td>\n",
       "      <td>0.075424</td>\n",
       "      <td>25.000000</td>\n",
       "      <td>5285.000000</td>\n",
       "      <td>2.000000</td>\n",
       "      <td>900.000000</td>\n",
       "      <td>1.000000</td>\n",
       "      <td>3.000000</td>\n",
       "      <td>192290.039215</td>\n",
       "    </tr>\n",
       "    <tr>\n",
       "      <th>75%</th>\n",
       "      <td>2.000000</td>\n",
       "      <td>65.890819</td>\n",
       "      <td>43.532260</td>\n",
       "      <td>10.000000</td>\n",
       "      <td>12.000000</td>\n",
       "      <td>17.000000</td>\n",
       "      <td>2.001000e+03</td>\n",
       "      <td>0.195781</td>\n",
       "      <td>36.000000</td>\n",
       "      <td>7227.000000</td>\n",
       "      <td>5.000000</td>\n",
       "      <td>1548.000000</td>\n",
       "      <td>2.000000</td>\n",
       "      <td>6.000000</td>\n",
       "      <td>249100.769116</td>\n",
       "    </tr>\n",
       "    <tr>\n",
       "      <th>max</th>\n",
       "      <td>5.000000</td>\n",
       "      <td>198.930182</td>\n",
       "      <td>161.504222</td>\n",
       "      <td>123.000000</td>\n",
       "      <td>42.000000</td>\n",
       "      <td>117.000000</td>\n",
       "      <td>2.005201e+07</td>\n",
       "      <td>0.521867</td>\n",
       "      <td>74.000000</td>\n",
       "      <td>19083.000000</td>\n",
       "      <td>141.000000</td>\n",
       "      <td>4849.000000</td>\n",
       "      <td>6.000000</td>\n",
       "      <td>23.000000</td>\n",
       "      <td>633233.466570</td>\n",
       "    </tr>\n",
       "  </tbody>\n",
       "</table>\n",
       "</div>"
      ],
      "text/plain": [
       "             Rooms       Square   LifeSquare  KitchenSquare        Floor  \\\n",
       "count  9984.000000  9984.000000  9984.000000    9984.000000  9984.000000   \n",
       "mean      1.888922    56.167854    34.987361       8.425735     8.524639   \n",
       "std       0.812961    18.844926    15.002784       4.063516     5.234671   \n",
       "min       1.000000     5.129222     0.370619       0.759914     1.000000   \n",
       "25%       1.000000    41.784346    23.853288       6.000000     4.000000   \n",
       "50%       2.000000    52.529412    32.581760       8.000000     7.000000   \n",
       "75%       2.000000    65.890819    43.532260      10.000000    12.000000   \n",
       "max       5.000000   198.930182   161.504222     123.000000    42.000000   \n",
       "\n",
       "        HouseFloor     HouseYear    Ecology_1     Social_1      Social_2  \\\n",
       "count  9984.000000  9.984000e+03  9984.000000  9984.000000   9984.000000   \n",
       "mean     12.988482  3.993363e+03     0.118863    24.697716   5353.857772   \n",
       "std       6.436770  2.006609e+05     0.119063    17.532551   4006.029681   \n",
       "min       1.000000  1.910000e+03     0.000000     0.000000    168.000000   \n",
       "25%       9.000000  1.974000e+03     0.017647     6.000000   1564.000000   \n",
       "50%      14.000000  1.977000e+03     0.075424    25.000000   5285.000000   \n",
       "75%      17.000000  2.001000e+03     0.195781    36.000000   7227.000000   \n",
       "max     117.000000  2.005201e+07     0.521867    74.000000  19083.000000   \n",
       "\n",
       "          Social_3  Healthcare_1  Helthcare_2      Shops_1          Price  \n",
       "count  9984.000000   5196.000000  9984.000000  9984.000000    9984.000000  \n",
       "mean      8.035156   1142.809854     1.320012     4.231170  214068.636061  \n",
       "std      23.812438   1020.833557     1.493871     4.804695   92724.208665  \n",
       "min       0.000000      0.000000     0.000000     0.000000   59174.778028  \n",
       "25%       0.000000    350.000000     0.000000     1.000000  153907.528147  \n",
       "50%       2.000000    900.000000     1.000000     3.000000  192290.039215  \n",
       "75%       5.000000   1548.000000     2.000000     6.000000  249100.769116  \n",
       "max     141.000000   4849.000000     6.000000    23.000000  633233.466570  "
      ]
     },
     "execution_count": 22,
     "metadata": {},
     "output_type": "execute_result"
    }
   ],
   "source": [
    "df_train.describe()"
   ]
  },
  {
   "cell_type": "code",
   "execution_count": 23,
   "metadata": {
    "execution": {
     "iopub.execute_input": "2020-12-08T12:40:19.304096Z",
     "iopub.status.busy": "2020-12-08T12:40:19.303375Z",
     "iopub.status.idle": "2020-12-08T12:40:19.310294Z",
     "shell.execute_reply": "2020-12-08T12:40:19.309701Z"
    },
    "papermill": {
     "duration": 0.04018,
     "end_time": "2020-12-08T12:40:19.310415",
     "exception": false,
     "start_time": "2020-12-08T12:40:19.270235",
     "status": "completed"
    },
    "tags": []
   },
   "outputs": [
    {
     "data": {
      "text/plain": [
       "1497    20052011\n",
       "4189        4968\n",
       "3485        2020\n",
       "3357        2020\n",
       "918         2020\n",
       "          ...   \n",
       "7611        1916\n",
       "910         1914\n",
       "2656        1912\n",
       "5111        1912\n",
       "9317        1910\n",
       "Name: HouseYear, Length: 9984, dtype: int64"
      ]
     },
     "execution_count": 23,
     "metadata": {},
     "output_type": "execute_result"
    }
   ],
   "source": [
    "(df_train['HouseYear']).sort_values(ascending=False)"
   ]
  },
  {
   "cell_type": "code",
   "execution_count": 24,
   "metadata": {
    "execution": {
     "iopub.execute_input": "2020-12-08T12:40:19.375067Z",
     "iopub.status.busy": "2020-12-08T12:40:19.374358Z",
     "iopub.status.idle": "2020-12-08T12:40:19.379058Z",
     "shell.execute_reply": "2020-12-08T12:40:19.378403Z"
    },
    "papermill": {
     "duration": 0.03981,
     "end_time": "2020-12-08T12:40:19.379177",
     "exception": false,
     "start_time": "2020-12-08T12:40:19.339367",
     "status": "completed"
    },
    "tags": []
   },
   "outputs": [],
   "source": [
    "df_train.loc[df_train['HouseYear'] == 20052011, 'HouseYear'] = 2008 # заменим на средний\n",
    "\n",
    "df_train.loc[df_train['HouseYear'] == 4968, 'HouseYear'] = df_train['HouseYear'].median() # непонятное значение заменим на медиану\n"
   ]
  },
  {
   "cell_type": "code",
   "execution_count": 25,
   "metadata": {
    "execution": {
     "iopub.execute_input": "2020-12-08T12:40:19.442009Z",
     "iopub.status.busy": "2020-12-08T12:40:19.441306Z",
     "iopub.status.idle": "2020-12-08T12:40:19.448410Z",
     "shell.execute_reply": "2020-12-08T12:40:19.447872Z"
    },
    "papermill": {
     "duration": 0.040493,
     "end_time": "2020-12-08T12:40:19.448541",
     "exception": false,
     "start_time": "2020-12-08T12:40:19.408048",
     "status": "completed"
    },
    "tags": []
   },
   "outputs": [
    {
     "data": {
      "text/plain": [
       "4389    2020\n",
       "4273    2020\n",
       "888     2020\n",
       "3255    2020\n",
       "1039    2020\n",
       "        ... \n",
       "1475    1912\n",
       "64      1911\n",
       "2691    1910\n",
       "2       1909\n",
       "3253    1908\n",
       "Name: HouseYear, Length: 5000, dtype: int64"
      ]
     },
     "execution_count": 25,
     "metadata": {},
     "output_type": "execute_result"
    }
   ],
   "source": [
    "(df_test['HouseYear']).sort_values(ascending=False)\n",
    "## проверим тестовые данные - все ок"
   ]
  },
  {
   "cell_type": "code",
   "execution_count": 26,
   "metadata": {
    "execution": {
     "iopub.execute_input": "2020-12-08T12:40:19.519669Z",
     "iopub.status.busy": "2020-12-08T12:40:19.518452Z",
     "iopub.status.idle": "2020-12-08T12:40:19.530781Z",
     "shell.execute_reply": "2020-12-08T12:40:19.530115Z"
    },
    "papermill": {
     "duration": 0.051304,
     "end_time": "2020-12-08T12:40:19.530898",
     "exception": false,
     "start_time": "2020-12-08T12:40:19.479594",
     "status": "completed"
    },
    "tags": []
   },
   "outputs": [],
   "source": [
    "def floorCats(df):\n",
    "    df['Floor_cat'] = 0\n",
    "    df.loc[df['Floor'] >= df['HouseFloor']*0.5, 'Floor_cat'] = 3\n",
    "    df.loc[df['Floor'] < df['HouseFloor']*0.5, 'Floor_cat'] = 2\n",
    "    df.loc[df['Floor'] == df['HouseFloor'], 'Floor_cat'] = 4\n",
    "    df.loc[df['Floor'] == 1, 'Floor_cat'] = 1\n",
    "    return df\n",
    "\n",
    "df_train = floorCats(df_train)\n",
    "df_test = floorCats(df_test)\n",
    "# Разобьем этажи на категории, 1 - первый этаж, 2 - нижние этажи, 3 - верхние этажи, 4 - последний этаж"
   ]
  },
  {
   "cell_type": "code",
   "execution_count": 27,
   "metadata": {
    "execution": {
     "iopub.execute_input": "2020-12-08T12:40:19.611000Z",
     "iopub.status.busy": "2020-12-08T12:40:19.609978Z",
     "iopub.status.idle": "2020-12-08T12:40:19.614388Z",
     "shell.execute_reply": "2020-12-08T12:40:19.613749Z"
    },
    "papermill": {
     "duration": 0.054158,
     "end_time": "2020-12-08T12:40:19.614520",
     "exception": false,
     "start_time": "2020-12-08T12:40:19.560362",
     "status": "completed"
    },
    "tags": []
   },
   "outputs": [
    {
     "data": {
      "text/html": [
       "<div>\n",
       "<style scoped>\n",
       "    .dataframe tbody tr th:only-of-type {\n",
       "        vertical-align: middle;\n",
       "    }\n",
       "\n",
       "    .dataframe tbody tr th {\n",
       "        vertical-align: top;\n",
       "    }\n",
       "\n",
       "    .dataframe thead th {\n",
       "        text-align: right;\n",
       "    }\n",
       "</style>\n",
       "<table border=\"1\" class=\"dataframe\">\n",
       "  <thead>\n",
       "    <tr style=\"text-align: right;\">\n",
       "      <th></th>\n",
       "      <th>Id</th>\n",
       "      <th>DistrictId</th>\n",
       "      <th>Rooms</th>\n",
       "      <th>Square</th>\n",
       "      <th>LifeSquare</th>\n",
       "      <th>KitchenSquare</th>\n",
       "      <th>Floor</th>\n",
       "      <th>HouseFloor</th>\n",
       "      <th>HouseYear</th>\n",
       "      <th>Ecology_1</th>\n",
       "      <th>Ecology_2</th>\n",
       "      <th>Ecology_3</th>\n",
       "      <th>Social_1</th>\n",
       "      <th>Social_2</th>\n",
       "      <th>Social_3</th>\n",
       "      <th>Healthcare_1</th>\n",
       "      <th>Helthcare_2</th>\n",
       "      <th>Shops_1</th>\n",
       "      <th>Shops_2</th>\n",
       "      <th>Price</th>\n",
       "      <th>Floor_cat</th>\n",
       "    </tr>\n",
       "  </thead>\n",
       "  <tbody>\n",
       "    <tr>\n",
       "      <th>0</th>\n",
       "      <td>14038</td>\n",
       "      <td>35</td>\n",
       "      <td>2.0</td>\n",
       "      <td>47.981561</td>\n",
       "      <td>29.442751</td>\n",
       "      <td>6.000000</td>\n",
       "      <td>7</td>\n",
       "      <td>9.0</td>\n",
       "      <td>1969</td>\n",
       "      <td>0.089040</td>\n",
       "      <td>B</td>\n",
       "      <td>B</td>\n",
       "      <td>33</td>\n",
       "      <td>7976</td>\n",
       "      <td>5</td>\n",
       "      <td>NaN</td>\n",
       "      <td>0</td>\n",
       "      <td>11</td>\n",
       "      <td>B</td>\n",
       "      <td>184966.930730</td>\n",
       "      <td>3</td>\n",
       "    </tr>\n",
       "    <tr>\n",
       "      <th>1</th>\n",
       "      <td>15053</td>\n",
       "      <td>41</td>\n",
       "      <td>3.0</td>\n",
       "      <td>65.683640</td>\n",
       "      <td>40.049543</td>\n",
       "      <td>8.000000</td>\n",
       "      <td>7</td>\n",
       "      <td>9.0</td>\n",
       "      <td>1978</td>\n",
       "      <td>0.000070</td>\n",
       "      <td>B</td>\n",
       "      <td>B</td>\n",
       "      <td>46</td>\n",
       "      <td>10309</td>\n",
       "      <td>1</td>\n",
       "      <td>240.0</td>\n",
       "      <td>1</td>\n",
       "      <td>16</td>\n",
       "      <td>B</td>\n",
       "      <td>300009.450063</td>\n",
       "      <td>3</td>\n",
       "    </tr>\n",
       "    <tr>\n",
       "      <th>2</th>\n",
       "      <td>4765</td>\n",
       "      <td>53</td>\n",
       "      <td>2.0</td>\n",
       "      <td>44.947953</td>\n",
       "      <td>29.197612</td>\n",
       "      <td>6.659216</td>\n",
       "      <td>8</td>\n",
       "      <td>12.0</td>\n",
       "      <td>1968</td>\n",
       "      <td>0.049637</td>\n",
       "      <td>B</td>\n",
       "      <td>B</td>\n",
       "      <td>34</td>\n",
       "      <td>7759</td>\n",
       "      <td>0</td>\n",
       "      <td>229.0</td>\n",
       "      <td>1</td>\n",
       "      <td>3</td>\n",
       "      <td>B</td>\n",
       "      <td>220925.908524</td>\n",
       "      <td>3</td>\n",
       "    </tr>\n",
       "    <tr>\n",
       "      <th>3</th>\n",
       "      <td>5809</td>\n",
       "      <td>58</td>\n",
       "      <td>2.0</td>\n",
       "      <td>53.352981</td>\n",
       "      <td>52.731512</td>\n",
       "      <td>9.000000</td>\n",
       "      <td>8</td>\n",
       "      <td>17.0</td>\n",
       "      <td>1977</td>\n",
       "      <td>0.437885</td>\n",
       "      <td>B</td>\n",
       "      <td>B</td>\n",
       "      <td>23</td>\n",
       "      <td>5735</td>\n",
       "      <td>3</td>\n",
       "      <td>1084.0</td>\n",
       "      <td>0</td>\n",
       "      <td>5</td>\n",
       "      <td>B</td>\n",
       "      <td>175616.227217</td>\n",
       "      <td>2</td>\n",
       "    </tr>\n",
       "    <tr>\n",
       "      <th>4</th>\n",
       "      <td>10783</td>\n",
       "      <td>99</td>\n",
       "      <td>1.0</td>\n",
       "      <td>39.649192</td>\n",
       "      <td>23.776169</td>\n",
       "      <td>7.000000</td>\n",
       "      <td>11</td>\n",
       "      <td>12.0</td>\n",
       "      <td>1976</td>\n",
       "      <td>0.012339</td>\n",
       "      <td>B</td>\n",
       "      <td>B</td>\n",
       "      <td>35</td>\n",
       "      <td>5776</td>\n",
       "      <td>1</td>\n",
       "      <td>2078.0</td>\n",
       "      <td>2</td>\n",
       "      <td>4</td>\n",
       "      <td>B</td>\n",
       "      <td>150226.531644</td>\n",
       "      <td>3</td>\n",
       "    </tr>\n",
       "  </tbody>\n",
       "</table>\n",
       "</div>"
      ],
      "text/plain": [
       "      Id DistrictId  Rooms     Square  LifeSquare  KitchenSquare  Floor  \\\n",
       "0  14038         35    2.0  47.981561   29.442751       6.000000      7   \n",
       "1  15053         41    3.0  65.683640   40.049543       8.000000      7   \n",
       "2   4765         53    2.0  44.947953   29.197612       6.659216      8   \n",
       "3   5809         58    2.0  53.352981   52.731512       9.000000      8   \n",
       "4  10783         99    1.0  39.649192   23.776169       7.000000     11   \n",
       "\n",
       "   HouseFloor  HouseYear  Ecology_1 Ecology_2 Ecology_3  Social_1  Social_2  \\\n",
       "0         9.0       1969   0.089040         B         B        33      7976   \n",
       "1         9.0       1978   0.000070         B         B        46     10309   \n",
       "2        12.0       1968   0.049637         B         B        34      7759   \n",
       "3        17.0       1977   0.437885         B         B        23      5735   \n",
       "4        12.0       1976   0.012339         B         B        35      5776   \n",
       "\n",
       "   Social_3  Healthcare_1  Helthcare_2  Shops_1 Shops_2          Price  \\\n",
       "0         5           NaN            0       11       B  184966.930730   \n",
       "1         1         240.0            1       16       B  300009.450063   \n",
       "2         0         229.0            1        3       B  220925.908524   \n",
       "3         3        1084.0            0        5       B  175616.227217   \n",
       "4         1        2078.0            2        4       B  150226.531644   \n",
       "\n",
       "   Floor_cat  \n",
       "0          3  \n",
       "1          3  \n",
       "2          3  \n",
       "3          2  \n",
       "4          3  "
      ]
     },
     "execution_count": 27,
     "metadata": {},
     "output_type": "execute_result"
    }
   ],
   "source": [
    "df_train.head()"
   ]
  },
  {
   "cell_type": "code",
   "execution_count": 28,
   "metadata": {
    "execution": {
     "iopub.execute_input": "2020-12-08T12:40:19.682730Z",
     "iopub.status.busy": "2020-12-08T12:40:19.681632Z",
     "iopub.status.idle": "2020-12-08T12:40:19.688678Z",
     "shell.execute_reply": "2020-12-08T12:40:19.688009Z"
    },
    "papermill": {
     "duration": 0.044016,
     "end_time": "2020-12-08T12:40:19.688799",
     "exception": false,
     "start_time": "2020-12-08T12:40:19.644783",
     "status": "completed"
    },
    "tags": []
   },
   "outputs": [],
   "source": [
    "df_train.loc[df_train['Healthcare_1'].isna(), 'Healthcare_1'] = df_train.loc[~df_train['Healthcare_1'].isna(), 'Healthcare_1'].median()\n",
    "df_test.loc[df_test['Healthcare_1'].isna(), 'Healthcare_1'] = df_test.loc[~df_test['Healthcare_1'].isna(), 'Healthcare_1'].median()"
   ]
  },
  {
   "cell_type": "code",
   "execution_count": 29,
   "metadata": {
    "execution": {
     "iopub.execute_input": "2020-12-08T12:40:19.781462Z",
     "iopub.status.busy": "2020-12-08T12:40:19.771436Z",
     "iopub.status.idle": "2020-12-08T12:40:19.784820Z",
     "shell.execute_reply": "2020-12-08T12:40:19.784058Z"
    },
    "papermill": {
     "duration": 0.065856,
     "end_time": "2020-12-08T12:40:19.784950",
     "exception": false,
     "start_time": "2020-12-08T12:40:19.719094",
     "status": "completed"
    },
    "tags": []
   },
   "outputs": [],
   "source": [
    "obj_to_num = {'A': 0, 'B': 1}\n",
    "def objsToNums (df):\n",
    "    df['Ecology_2'] = df['Ecology_2'].replace(obj_to_num)\n",
    "    df['Ecology_3'] = df['Ecology_3'].replace(obj_to_num)\n",
    "    df['Shops_2'] = df['Shops_2'].replace(obj_to_num)\n",
    "    return df\n",
    "\n",
    "df_train = objsToNums(df_train)\n",
    "df_test = objsToNums(df_test)"
   ]
  },
  {
   "cell_type": "code",
   "execution_count": 30,
   "metadata": {
    "execution": {
     "iopub.execute_input": "2020-12-08T12:40:19.850366Z",
     "iopub.status.busy": "2020-12-08T12:40:19.849683Z",
     "iopub.status.idle": "2020-12-08T12:40:19.852981Z",
     "shell.execute_reply": "2020-12-08T12:40:19.852275Z"
    },
    "papermill": {
     "duration": 0.037817,
     "end_time": "2020-12-08T12:40:19.853099",
     "exception": false,
     "start_time": "2020-12-08T12:40:19.815282",
     "status": "completed"
    },
    "tags": []
   },
   "outputs": [],
   "source": [
    "# далее создадим модель и протестим ее"
   ]
  },
  {
   "cell_type": "code",
   "execution_count": 31,
   "metadata": {
    "execution": {
     "iopub.execute_input": "2020-12-08T12:40:19.920315Z",
     "iopub.status.busy": "2020-12-08T12:40:19.919672Z",
     "iopub.status.idle": "2020-12-08T12:40:19.932469Z",
     "shell.execute_reply": "2020-12-08T12:40:19.931847Z"
    },
    "papermill": {
     "duration": 0.049045,
     "end_time": "2020-12-08T12:40:19.932610",
     "exception": false,
     "start_time": "2020-12-08T12:40:19.883565",
     "status": "completed"
    },
    "tags": []
   },
   "outputs": [],
   "source": [
    "target = 'Price'\n",
    "\n",
    "X = df_train.drop(columns=target)\n",
    "y = df_train[target]\n",
    "X_train, X_valid, y_train, y_valid = train_test_split(X, y, test_size=0.33, shuffle=True)"
   ]
  },
  {
   "cell_type": "code",
   "execution_count": 32,
   "metadata": {
    "execution": {
     "iopub.execute_input": "2020-12-08T12:40:20.004550Z",
     "iopub.status.busy": "2020-12-08T12:40:20.003828Z",
     "iopub.status.idle": "2020-12-08T12:40:20.014316Z",
     "shell.execute_reply": "2020-12-08T12:40:20.013752Z"
    },
    "papermill": {
     "duration": 0.050728,
     "end_time": "2020-12-08T12:40:20.014430",
     "exception": false,
     "start_time": "2020-12-08T12:40:19.963702",
     "status": "completed"
    },
    "tags": []
   },
   "outputs": [
    {
     "data": {
      "text/plain": [
       "(0, 0, 0)"
      ]
     },
     "execution_count": 32,
     "metadata": {},
     "output_type": "execute_result"
    }
   ],
   "source": [
    "X_train.isna().sum().sum(), X_valid.isna().sum().sum(), df_test.isna().sum().sum()"
   ]
  },
  {
   "cell_type": "code",
   "execution_count": 33,
   "metadata": {
    "execution": {
     "iopub.execute_input": "2020-12-08T12:40:20.086541Z",
     "iopub.status.busy": "2020-12-08T12:40:20.084840Z",
     "iopub.status.idle": "2020-12-08T12:40:25.721315Z",
     "shell.execute_reply": "2020-12-08T12:40:25.720753Z"
    },
    "papermill": {
     "duration": 5.676281,
     "end_time": "2020-12-08T12:40:25.721431",
     "exception": false,
     "start_time": "2020-12-08T12:40:20.045150",
     "status": "completed"
    },
    "tags": []
   },
   "outputs": [
    {
     "data": {
      "text/plain": [
       "RandomForestRegressor()"
      ]
     },
     "execution_count": 33,
     "metadata": {},
     "output_type": "execute_result"
    }
   ],
   "source": [
    "rf_model = RandomForestRegressor(criterion='mse')\n",
    "rf_model.fit(X_train, y_train)"
   ]
  },
  {
   "cell_type": "code",
   "execution_count": 34,
   "metadata": {
    "collapsed": true,
    "execution": {
     "iopub.execute_input": "2020-12-08T12:40:25.792377Z",
     "iopub.status.busy": "2020-12-08T12:40:25.791742Z",
     "iopub.status.idle": "2020-12-08T12:40:26.056242Z",
     "shell.execute_reply": "2020-12-08T12:40:26.055686Z"
    },
    "papermill": {
     "duration": 0.302885,
     "end_time": "2020-12-08T12:40:26.056368",
     "exception": false,
     "start_time": "2020-12-08T12:40:25.753483",
     "status": "completed"
    },
    "tags": []
   },
   "outputs": [],
   "source": [
    "#def evaluate_preds(train_true_values, train_pred_values, test_true_values, test_pred_values):\n",
    "#   print(\"Train R2:\\t\" + str(round(r2(train_true_values, train_pred_values), 3)))\n",
    "#    print(\"Test R2:\\t\" + str(round(r2(test_true_values, test_pred_values), 3)))\n",
    "#    \n",
    "#    plt.figure(figsize=(12,5))\n",
    "#    \n",
    "#    plt.subplot(121)\n",
    "#    sns.scatterplot(x=train_pred_values, y=train_true_values)\n",
    "#    plt.xlabel('Predicted values')\n",
    "#    plt.ylabel('True values')\n",
    "#    plt.title('Train sample prediction')\n",
    "#    \n",
    "#    plt.subplot(122)\n",
    "#    sns.scatterplot(x=test_pred_values, y=test_true_values)\n",
    "#    plt.xlabel('Predicted values')\n",
    "#    plt.ylabel('True values')\n",
    "#    plt.title('Test sample prediction')\n",
    "\n",
    "#    plt.show()\n",
    "\n",
    "y_train_preds = rf_model.predict(X_train)\n",
    "y_test_preds = rf_model.predict(X_valid)\n",
    "\n",
    "#evaluate_preds(y_train, y_train_preds, y_valid, y_test_preds)"
   ]
  },
  {
   "cell_type": "code",
   "execution_count": 35,
   "metadata": {
    "execution": {
     "iopub.execute_input": "2020-12-08T12:40:26.124892Z",
     "iopub.status.busy": "2020-12-08T12:40:26.124252Z",
     "iopub.status.idle": "2020-12-08T12:40:37.262889Z",
     "shell.execute_reply": "2020-12-08T12:40:37.262348Z"
    },
    "papermill": {
     "duration": 11.175247,
     "end_time": "2020-12-08T12:40:37.263011",
     "exception": false,
     "start_time": "2020-12-08T12:40:26.087764",
     "status": "completed"
    },
    "tags": []
   },
   "outputs": [
    {
     "data": {
      "text/plain": [
       "array([0.72880555, 0.70485864, 0.68406437])"
      ]
     },
     "execution_count": 35,
     "metadata": {},
     "output_type": "execute_result"
    }
   ],
   "source": [
    "cv_score = cross_val_score(rf_model, X_train, y_train, scoring='r2', cv=KFold(n_splits=3, shuffle=True, random_state=21))\n",
    "cv_score"
   ]
  },
  {
   "cell_type": "code",
   "execution_count": 36,
   "metadata": {
    "execution": {
     "iopub.execute_input": "2020-12-08T12:40:37.334800Z",
     "iopub.status.busy": "2020-12-08T12:40:37.333964Z",
     "iopub.status.idle": "2020-12-08T12:40:37.367389Z",
     "shell.execute_reply": "2020-12-08T12:40:37.367840Z"
    },
    "papermill": {
     "duration": 0.072845,
     "end_time": "2020-12-08T12:40:37.367983",
     "exception": false,
     "start_time": "2020-12-08T12:40:37.295138",
     "status": "completed"
    },
    "tags": []
   },
   "outputs": [
    {
     "data": {
      "text/html": [
       "<div>\n",
       "<style scoped>\n",
       "    .dataframe tbody tr th:only-of-type {\n",
       "        vertical-align: middle;\n",
       "    }\n",
       "\n",
       "    .dataframe tbody tr th {\n",
       "        vertical-align: top;\n",
       "    }\n",
       "\n",
       "    .dataframe thead th {\n",
       "        text-align: right;\n",
       "    }\n",
       "</style>\n",
       "<table border=\"1\" class=\"dataframe\">\n",
       "  <thead>\n",
       "    <tr style=\"text-align: right;\">\n",
       "      <th></th>\n",
       "      <th>feature_name</th>\n",
       "      <th>importance</th>\n",
       "    </tr>\n",
       "  </thead>\n",
       "  <tbody>\n",
       "    <tr>\n",
       "      <th>3</th>\n",
       "      <td>Square</td>\n",
       "      <td>0.375397</td>\n",
       "    </tr>\n",
       "    <tr>\n",
       "      <th>13</th>\n",
       "      <td>Social_2</td>\n",
       "      <td>0.109289</td>\n",
       "    </tr>\n",
       "    <tr>\n",
       "      <th>12</th>\n",
       "      <td>Social_1</td>\n",
       "      <td>0.085313</td>\n",
       "    </tr>\n",
       "    <tr>\n",
       "      <th>2</th>\n",
       "      <td>Rooms</td>\n",
       "      <td>0.071415</td>\n",
       "    </tr>\n",
       "    <tr>\n",
       "      <th>14</th>\n",
       "      <td>Social_3</td>\n",
       "      <td>0.057409</td>\n",
       "    </tr>\n",
       "    <tr>\n",
       "      <th>1</th>\n",
       "      <td>DistrictId</td>\n",
       "      <td>0.050353</td>\n",
       "    </tr>\n",
       "    <tr>\n",
       "      <th>9</th>\n",
       "      <td>Ecology_1</td>\n",
       "      <td>0.035038</td>\n",
       "    </tr>\n",
       "    <tr>\n",
       "      <th>8</th>\n",
       "      <td>HouseYear</td>\n",
       "      <td>0.034985</td>\n",
       "    </tr>\n",
       "    <tr>\n",
       "      <th>4</th>\n",
       "      <td>LifeSquare</td>\n",
       "      <td>0.028194</td>\n",
       "    </tr>\n",
       "    <tr>\n",
       "      <th>5</th>\n",
       "      <td>KitchenSquare</td>\n",
       "      <td>0.025630</td>\n",
       "    </tr>\n",
       "    <tr>\n",
       "      <th>0</th>\n",
       "      <td>Id</td>\n",
       "      <td>0.025288</td>\n",
       "    </tr>\n",
       "    <tr>\n",
       "      <th>15</th>\n",
       "      <td>Healthcare_1</td>\n",
       "      <td>0.024233</td>\n",
       "    </tr>\n",
       "    <tr>\n",
       "      <th>7</th>\n",
       "      <td>HouseFloor</td>\n",
       "      <td>0.023452</td>\n",
       "    </tr>\n",
       "    <tr>\n",
       "      <th>6</th>\n",
       "      <td>Floor</td>\n",
       "      <td>0.022734</td>\n",
       "    </tr>\n",
       "    <tr>\n",
       "      <th>17</th>\n",
       "      <td>Shops_1</td>\n",
       "      <td>0.017827</td>\n",
       "    </tr>\n",
       "    <tr>\n",
       "      <th>16</th>\n",
       "      <td>Helthcare_2</td>\n",
       "      <td>0.006060</td>\n",
       "    </tr>\n",
       "    <tr>\n",
       "      <th>19</th>\n",
       "      <td>Floor_cat</td>\n",
       "      <td>0.005354</td>\n",
       "    </tr>\n",
       "    <tr>\n",
       "      <th>18</th>\n",
       "      <td>Shops_2</td>\n",
       "      <td>0.000893</td>\n",
       "    </tr>\n",
       "    <tr>\n",
       "      <th>10</th>\n",
       "      <td>Ecology_2</td>\n",
       "      <td>0.000641</td>\n",
       "    </tr>\n",
       "    <tr>\n",
       "      <th>11</th>\n",
       "      <td>Ecology_3</td>\n",
       "      <td>0.000495</td>\n",
       "    </tr>\n",
       "  </tbody>\n",
       "</table>\n",
       "</div>"
      ],
      "text/plain": [
       "     feature_name  importance\n",
       "3          Square    0.375397\n",
       "13       Social_2    0.109289\n",
       "12       Social_1    0.085313\n",
       "2           Rooms    0.071415\n",
       "14       Social_3    0.057409\n",
       "1      DistrictId    0.050353\n",
       "9       Ecology_1    0.035038\n",
       "8       HouseYear    0.034985\n",
       "4      LifeSquare    0.028194\n",
       "5   KitchenSquare    0.025630\n",
       "0              Id    0.025288\n",
       "15   Healthcare_1    0.024233\n",
       "7      HouseFloor    0.023452\n",
       "6           Floor    0.022734\n",
       "17        Shops_1    0.017827\n",
       "16    Helthcare_2    0.006060\n",
       "19      Floor_cat    0.005354\n",
       "18        Shops_2    0.000893\n",
       "10      Ecology_2    0.000641\n",
       "11      Ecology_3    0.000495"
      ]
     },
     "execution_count": 36,
     "metadata": {},
     "output_type": "execute_result"
    }
   ],
   "source": [
    "feature_importances = pd.DataFrame(zip(X_train.columns, rf_model.feature_importances_), \n",
    "                                   columns=['feature_name', 'importance'])\n",
    "\n",
    "feature_importances.sort_values(by='importance', ascending=False)"
   ]
  },
  {
   "cell_type": "code",
   "execution_count": 37,
   "metadata": {
    "execution": {
     "iopub.execute_input": "2020-12-08T12:40:37.439541Z",
     "iopub.status.busy": "2020-12-08T12:40:37.438900Z",
     "iopub.status.idle": "2020-12-08T12:40:37.567573Z",
     "shell.execute_reply": "2020-12-08T12:40:37.567000Z"
    },
    "papermill": {
     "duration": 0.167358,
     "end_time": "2020-12-08T12:40:37.567698",
     "exception": false,
     "start_time": "2020-12-08T12:40:37.400340",
     "status": "completed"
    },
    "tags": []
   },
   "outputs": [
    {
     "data": {
      "text/plain": [
       "array([151315.86464097, 218954.01955253, 242677.21933962, ...,\n",
       "       317233.20670947, 208753.05146109, 178163.44721992])"
      ]
     },
     "execution_count": 37,
     "metadata": {},
     "output_type": "execute_result"
    }
   ],
   "source": [
    "predictions = rf_model.predict(df_test)\n",
    "predictions"
   ]
  },
  {
   "cell_type": "code",
   "execution_count": 38,
   "metadata": {
    "execution": {
     "iopub.execute_input": "2020-12-08T12:40:37.640971Z",
     "iopub.status.busy": "2020-12-08T12:40:37.640276Z",
     "iopub.status.idle": "2020-12-08T12:40:37.657336Z",
     "shell.execute_reply": "2020-12-08T12:40:37.656679Z"
    },
    "papermill": {
     "duration": 0.056763,
     "end_time": "2020-12-08T12:40:37.657468",
     "exception": false,
     "start_time": "2020-12-08T12:40:37.600705",
     "status": "completed"
    },
    "tags": []
   },
   "outputs": [
    {
     "data": {
      "text/html": [
       "<div>\n",
       "<style scoped>\n",
       "    .dataframe tbody tr th:only-of-type {\n",
       "        vertical-align: middle;\n",
       "    }\n",
       "\n",
       "    .dataframe tbody tr th {\n",
       "        vertical-align: top;\n",
       "    }\n",
       "\n",
       "    .dataframe thead th {\n",
       "        text-align: right;\n",
       "    }\n",
       "</style>\n",
       "<table border=\"1\" class=\"dataframe\">\n",
       "  <thead>\n",
       "    <tr style=\"text-align: right;\">\n",
       "      <th></th>\n",
       "      <th>Id</th>\n",
       "      <th>Price</th>\n",
       "    </tr>\n",
       "  </thead>\n",
       "  <tbody>\n",
       "    <tr>\n",
       "      <th>0</th>\n",
       "      <td>725</td>\n",
       "      <td>151315.864641</td>\n",
       "    </tr>\n",
       "    <tr>\n",
       "      <th>1</th>\n",
       "      <td>15856</td>\n",
       "      <td>218954.019553</td>\n",
       "    </tr>\n",
       "    <tr>\n",
       "      <th>2</th>\n",
       "      <td>5480</td>\n",
       "      <td>242677.219340</td>\n",
       "    </tr>\n",
       "    <tr>\n",
       "      <th>3</th>\n",
       "      <td>15664</td>\n",
       "      <td>343985.053715</td>\n",
       "    </tr>\n",
       "    <tr>\n",
       "      <th>4</th>\n",
       "      <td>14275</td>\n",
       "      <td>143035.363228</td>\n",
       "    </tr>\n",
       "  </tbody>\n",
       "</table>\n",
       "</div>"
      ],
      "text/plain": [
       "      Id          Price\n",
       "0    725  151315.864641\n",
       "1  15856  218954.019553\n",
       "2   5480  242677.219340\n",
       "3  15664  343985.053715\n",
       "4  14275  143035.363228"
      ]
     },
     "execution_count": 38,
     "metadata": {},
     "output_type": "execute_result"
    }
   ],
   "source": [
    "submit = pd.read_csv('/kaggle/input/realestatepriceprediction/sample_submission.csv')\n",
    "submit.head()\n",
    "submit['Price'] = predictions\n",
    "submit.head()"
   ]
  },
  {
   "cell_type": "code",
   "execution_count": 39,
   "metadata": {
    "execution": {
     "iopub.execute_input": "2020-12-08T12:40:37.729640Z",
     "iopub.status.busy": "2020-12-08T12:40:37.729006Z",
     "iopub.status.idle": "2020-12-08T12:40:38.109007Z",
     "shell.execute_reply": "2020-12-08T12:40:38.108359Z"
    },
    "papermill": {
     "duration": 0.418064,
     "end_time": "2020-12-08T12:40:38.109142",
     "exception": false,
     "start_time": "2020-12-08T12:40:37.691078",
     "status": "completed"
    },
    "tags": []
   },
   "outputs": [],
   "source": [
    "submit.to_csv('rf_submit.csv', index=False)"
   ]
  },
  {
   "cell_type": "code",
   "execution_count": null,
   "metadata": {
    "papermill": {
     "duration": 0.033812,
     "end_time": "2020-12-08T12:40:38.177196",
     "exception": false,
     "start_time": "2020-12-08T12:40:38.143384",
     "status": "completed"
    },
    "tags": []
   },
   "outputs": [],
   "source": []
  }
 ],
 "metadata": {
  "kernelspec": {
   "display_name": "Python 3",
   "language": "python",
   "name": "python3"
  },
  "language_info": {
   "codemirror_mode": {
    "name": "ipython",
    "version": 3
   },
   "file_extension": ".py",
   "mimetype": "text/x-python",
   "name": "python",
   "nbconvert_exporter": "python",
   "pygments_lexer": "ipython3",
   "version": "3.7.6"
  },
  "papermill": {
   "duration": 27.088587,
   "end_time": "2020-12-08T12:40:38.322664",
   "environment_variables": {},
   "exception": null,
   "input_path": "__notebook__.ipynb",
   "output_path": "__notebook__.ipynb",
   "parameters": {},
   "start_time": "2020-12-08T12:40:11.234077",
   "version": "2.1.0"
  }
 },
 "nbformat": 4,
 "nbformat_minor": 4
}
